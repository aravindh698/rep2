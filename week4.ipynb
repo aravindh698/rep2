{
  "nbformat": 4,
  "nbformat_minor": 0,
  "metadata": {
    "colab": {
      "name": "Untitled8.ipynb",
      "provenance": [],
      "authorship_tag": "ABX9TyNGGSgVaiPFEK3bSwvjmOg7",
      "include_colab_link": true
    },
    "kernelspec": {
      "name": "python3",
      "display_name": "Python 3"
    }
  },
  "cells": [
    {
      "cell_type": "markdown",
      "metadata": {
        "id": "view-in-github",
        "colab_type": "text"
      },
      "source": [
        "<a href=\"https://colab.research.google.com/github/aravindh698/rep2/blob/master/week4.ipynb\" target=\"_parent\"><img src=\"https://colab.research.google.com/assets/colab-badge.svg\" alt=\"Open In Colab\"/></a>"
      ]
    },
    {
      "cell_type": "code",
      "metadata": {
        "id": "vN05Zuzo-kxt",
        "colab_type": "code",
        "colab": {}
      },
      "source": [
        "import pandas as pd\n",
        "import numpy as np\n",
        "import matplotlib.pyplot as plt\n"
      ],
      "execution_count": 0,
      "outputs": []
    },
    {
      "cell_type": "code",
      "metadata": {
        "id": "0-uhRqsh-0CQ",
        "colab_type": "code",
        "outputId": "d24c8e1d-6abc-4ea9-bc25-3da7cec2741c",
        "colab": {
          "base_uri": "https://localhost:8080/",
          "height": 204
        }
      },
      "source": [
        "df=pd.read_csv(\"Nifty50.csv\")\n",
        "df.head()"
      ],
      "execution_count": 2,
      "outputs": [
        {
          "output_type": "execute_result",
          "data": {
            "text/html": [
              "<div>\n",
              "<style scoped>\n",
              "    .dataframe tbody tr th:only-of-type {\n",
              "        vertical-align: middle;\n",
              "    }\n",
              "\n",
              "    .dataframe tbody tr th {\n",
              "        vertical-align: top;\n",
              "    }\n",
              "\n",
              "    .dataframe thead th {\n",
              "        text-align: right;\n",
              "    }\n",
              "</style>\n",
              "<table border=\"1\" class=\"dataframe\">\n",
              "  <thead>\n",
              "    <tr style=\"text-align: right;\">\n",
              "      <th></th>\n",
              "      <th>Date</th>\n",
              "      <th>Open</th>\n",
              "      <th>High</th>\n",
              "      <th>Low</th>\n",
              "      <th>Close</th>\n",
              "      <th>Shares Traded</th>\n",
              "      <th>Turnover (Rs. Cr)</th>\n",
              "    </tr>\n",
              "  </thead>\n",
              "  <tbody>\n",
              "    <tr>\n",
              "      <th>0</th>\n",
              "      <td>15-May-2017</td>\n",
              "      <td>9433.55</td>\n",
              "      <td>9449.25</td>\n",
              "      <td>9423.10</td>\n",
              "      <td>9445.40</td>\n",
              "      <td>145163953</td>\n",
              "      <td>7790.97</td>\n",
              "    </tr>\n",
              "    <tr>\n",
              "      <th>1</th>\n",
              "      <td>16-May-2017</td>\n",
              "      <td>9461.00</td>\n",
              "      <td>9517.20</td>\n",
              "      <td>9456.35</td>\n",
              "      <td>9512.25</td>\n",
              "      <td>171709433</td>\n",
              "      <td>9209.89</td>\n",
              "    </tr>\n",
              "    <tr>\n",
              "      <th>2</th>\n",
              "      <td>17-May-2017</td>\n",
              "      <td>9517.60</td>\n",
              "      <td>9532.60</td>\n",
              "      <td>9486.10</td>\n",
              "      <td>9525.75</td>\n",
              "      <td>211856040</td>\n",
              "      <td>10726.23</td>\n",
              "    </tr>\n",
              "    <tr>\n",
              "      <th>3</th>\n",
              "      <td>18-May-2017</td>\n",
              "      <td>9453.20</td>\n",
              "      <td>9489.10</td>\n",
              "      <td>9418.10</td>\n",
              "      <td>9429.45</td>\n",
              "      <td>199340647</td>\n",
              "      <td>10782.46</td>\n",
              "    </tr>\n",
              "    <tr>\n",
              "      <th>4</th>\n",
              "      <td>19-May-2017</td>\n",
              "      <td>9469.90</td>\n",
              "      <td>9505.75</td>\n",
              "      <td>9390.75</td>\n",
              "      <td>9427.90</td>\n",
              "      <td>259861396</td>\n",
              "      <td>11544.77</td>\n",
              "    </tr>\n",
              "  </tbody>\n",
              "</table>\n",
              "</div>"
            ],
            "text/plain": [
              "          Date     Open     High  ...    Close  Shares Traded  Turnover (Rs. Cr)\n",
              "0  15-May-2017  9433.55  9449.25  ...  9445.40      145163953            7790.97\n",
              "1  16-May-2017  9461.00  9517.20  ...  9512.25      171709433            9209.89\n",
              "2  17-May-2017  9517.60  9532.60  ...  9525.75      211856040           10726.23\n",
              "3  18-May-2017  9453.20  9489.10  ...  9429.45      199340647           10782.46\n",
              "4  19-May-2017  9469.90  9505.75  ...  9427.90      259861396           11544.77\n",
              "\n",
              "[5 rows x 7 columns]"
            ]
          },
          "metadata": {
            "tags": []
          },
          "execution_count": 2
        }
      ]
    },
    {
      "cell_type": "code",
      "metadata": {
        "id": "i5wB33Lm_WOa",
        "colab_type": "code",
        "colab": {}
      },
      "source": [
        "\n",
        "#Set number of days and standard deviations to use for rolling lookback period for Bollinger band calculation\n",
        "window = 21\n",
        "no_of_std = 2\n",
        "\n",
        "#Calculate rolling mean and standard deviation using number of days set above\n",
        "rolling_mean = df['Close'].rolling(window).mean()\n",
        "rolling_std = df['Close'].rolling(window).std()\n",
        "\n",
        "#create two new DataFrame columns to hold values of upper and lower Bollinger bands\n",
        "df['Rolling Mean'] = rolling_mean\n",
        "df['Bollinger High'] = rolling_mean + (rolling_std * no_of_std)\n",
        "df['Bollinger Low'] = rolling_mean - (rolling_std * no_of_std)\n"
      ],
      "execution_count": 0,
      "outputs": []
    },
    {
      "cell_type": "code",
      "metadata": {
        "id": "fBfkxMS__iFR",
        "colab_type": "code",
        "outputId": "1df037f7-901c-469b-8bea-221f7db2e7f6",
        "colab": {
          "base_uri": "https://localhost:8080/",
          "height": 282
        }
      },
      "source": [
        "df[['Close','Bollinger High','Bollinger Low']].plot()\n"
      ],
      "execution_count": 4,
      "outputs": [
        {
          "output_type": "execute_result",
          "data": {
            "text/plain": [
              "<matplotlib.axes._subplots.AxesSubplot at 0x7fc61f4ecb00>"
            ]
          },
          "metadata": {
            "tags": []
          },
          "execution_count": 4
        },
        {
          "output_type": "display_data",
          "data": {
            "image/png": "[encoded data removed]",
            "text/plain": [
              "<Figure size 432x288 with 1 Axes>"
            ]
          },
          "metadata": {
            "tags": [],
            "needs_background": "light"
          }
        }
      ]
    },
    {
      "cell_type": "code",
      "metadata": {
        "id": "6N3j60bZ_m1v",
        "colab_type": "code",
        "colab": {}
      },
      "source": [
        "df.fillna(0,inplace=True)"
      ],
      "execution_count": 0,
      "outputs": []
    },
    {
      "cell_type": "code",
      "metadata": {
        "id": "NQQo4XMm_0Wl",
        "colab_type": "code",
        "outputId": "e4c2f442-ed35-4594-947d-a1e6a1f1ace8",
        "colab": {
          "base_uri": "https://localhost:8080/",
          "height": 306
        }
      },
      "source": [
        "criteria = [df['Close'] < df['Bollinger Low'],df['Close'].between(df['Bollinger Low'],df['Rolling Mean']),df['Close'].between(df['Rolling Mean'],df['Bollinger High']),df['Close'] > df['Bollinger High']]\n",
        "values = ['Buy','Hold Buy','Hold Sort','Short']\n",
        "df['Call'] = np.select(criteria, values, 0)\n",
        "df.tail()"
      ],
      "execution_count": 6,
      "outputs": [
        {
          "output_type": "execute_result",
          "data": {
            "text/html": [
              "<div>\n",
              "<style scoped>\n",
              "    .dataframe tbody tr th:only-of-type {\n",
              "        vertical-align: middle;\n",
              "    }\n",
              "\n",
              "    .dataframe tbody tr th {\n",
              "        vertical-align: top;\n",
              "    }\n",
              "\n",
              "    .dataframe thead th {\n",
              "        text-align: right;\n",
              "    }\n",
              "</style>\n",
              "<table border=\"1\" class=\"dataframe\">\n",
              "  <thead>\n",
              "    <tr style=\"text-align: right;\">\n",
              "      <th></th>\n",
              "      <th>Date</th>\n",
              "      <th>Open</th>\n",
              "      <th>High</th>\n",
              "      <th>Low</th>\n",
              "      <th>Close</th>\n",
              "      <th>Shares Traded</th>\n",
              "      <th>Turnover (Rs. Cr)</th>\n",
              "      <th>Rolling Mean</th>\n",
              "      <th>Bollinger High</th>\n",
              "      <th>Bollinger Low</th>\n",
              "      <th>Call</th>\n",
              "    </tr>\n",
              "  </thead>\n",
              "  <tbody>\n",
              "    <tr>\n",
              "      <th>489</th>\n",
              "      <td>07-May-2019</td>\n",
              "      <td>11651.50</td>\n",
              "      <td>11657.05</td>\n",
              "      <td>11484.45</td>\n",
              "      <td>11497.90</td>\n",
              "      <td>337495624</td>\n",
              "      <td>16632.84</td>\n",
              "      <td>11657.780952</td>\n",
              "      <td>11807.965790</td>\n",
              "      <td>11507.596115</td>\n",
              "      <td>Buy</td>\n",
              "    </tr>\n",
              "    <tr>\n",
              "      <th>490</th>\n",
              "      <td>08-May-2019</td>\n",
              "      <td>11478.70</td>\n",
              "      <td>11479.10</td>\n",
              "      <td>11346.95</td>\n",
              "      <td>11359.45</td>\n",
              "      <td>372826025</td>\n",
              "      <td>17440.01</td>\n",
              "      <td>11644.233333</td>\n",
              "      <td>11843.096699</td>\n",
              "      <td>11445.369967</td>\n",
              "      <td>Buy</td>\n",
              "    </tr>\n",
              "    <tr>\n",
              "      <th>491</th>\n",
              "      <td>09-May-2019</td>\n",
              "      <td>11322.40</td>\n",
              "      <td>11357.60</td>\n",
              "      <td>11255.05</td>\n",
              "      <td>11301.80</td>\n",
              "      <td>373028059</td>\n",
              "      <td>17602.86</td>\n",
              "      <td>11630.128571</td>\n",
              "      <td>11878.595240</td>\n",
              "      <td>11381.661902</td>\n",
              "      <td>Buy</td>\n",
              "    </tr>\n",
              "    <tr>\n",
              "      <th>492</th>\n",
              "      <td>10-May-2019</td>\n",
              "      <td>11314.15</td>\n",
              "      <td>11345.80</td>\n",
              "      <td>11251.05</td>\n",
              "      <td>11278.90</td>\n",
              "      <td>387323416</td>\n",
              "      <td>18085.19</td>\n",
              "      <td>11611.697619</td>\n",
              "      <td>11902.772545</td>\n",
              "      <td>11320.622693</td>\n",
              "      <td>Buy</td>\n",
              "    </tr>\n",
              "    <tr>\n",
              "      <th>493</th>\n",
              "      <td>13-May-2019</td>\n",
              "      <td>11258.70</td>\n",
              "      <td>11300.20</td>\n",
              "      <td>11125.60</td>\n",
              "      <td>11148.20</td>\n",
              "      <td>357586433</td>\n",
              "      <td>16722.91</td>\n",
              "      <td>11589.969048</td>\n",
              "      <td>11944.507213</td>\n",
              "      <td>11235.430883</td>\n",
              "      <td>Buy</td>\n",
              "    </tr>\n",
              "  </tbody>\n",
              "</table>\n",
              "</div>"
            ],
            "text/plain": [
              "            Date      Open      High  ...  Bollinger High  Bollinger Low  Call\n",
              "489  07-May-2019  11651.50  11657.05  ...    11807.965790   11507.596115   Buy\n",
              "490  08-May-2019  11478.70  11479.10  ...    11843.096699   11445.369967   Buy\n",
              "491  09-May-2019  11322.40  11357.60  ...    11878.595240   11381.661902   Buy\n",
              "492  10-May-2019  11314.15  11345.80  ...    11902.772545   11320.622693   Buy\n",
              "493  13-May-2019  11258.70  11300.20  ...    11944.507213   11235.430883   Buy\n",
              "\n",
              "[5 rows x 11 columns]"
            ]
          },
          "metadata": {
            "tags": []
          },
          "execution_count": 6
        }
      ]
    },
    {
      "cell_type": "code",
      "metadata": {
        "id": "J5baaUEMJW3O",
        "colab_type": "code",
        "outputId": "9ce116dd-1974-4787-bf2d-9c015b20deb1",
        "colab": {
          "base_uri": "https://localhost:8080/",
          "height": 289
        }
      },
      "source": [
        "from sklearn.model_selection import train_test_split\n",
        "X=df[['Close','Rolling Mean','Bollinger High','Bollinger Low']]\n",
        "y=df['Call']\n",
        "X_train,X_test,y_train,y_test=train_test_split(X,y,test_size=0.2,random_state=0)\n",
        "from sklearn.tree import DecisionTreeClassifier\n",
        "classsi=DecisionTreeClassifier(criterion='entropy')\n",
        "classsi.fit(X_train,y_train)\n",
        "classsi_pred=classsi.predict(X_test)\n",
        "print(classsi_pred)"
      ],
      "execution_count": 7,
      "outputs": [
        {
          "output_type": "stream",
          "text": [
            "['Hold Buy' 'Hold Buy' 'Hold Sort' 'Hold Sort' 'Hold Sort' 'Short'\n",
            " 'Hold Sort' 'Hold Sort' 'Hold Sort' 'Hold Buy' 'Hold Sort' 'Hold Buy'\n",
            " 'Hold Sort' 'Hold Sort' 'Hold Sort' 'Hold Sort' 'Hold Buy' 'Buy'\n",
            " 'Hold Sort' 'Hold Sort' 'Hold Sort' 'Hold Buy' 'Buy' 'Hold Sort'\n",
            " 'Hold Sort' 'Hold Sort' 'Hold Sort' 'Hold Buy' 'Hold Sort' 'Hold Buy'\n",
            " 'Buy' 'Hold Buy' 'Buy' 'Hold Sort' 'Hold Sort' 'Hold Sort' 'Hold Sort'\n",
            " 'Hold Buy' 'Hold Sort' 'Hold Buy' 'Hold Sort' 'Hold Sort' 'Short'\n",
            " 'Hold Sort' 'Hold Sort' 'Short' 'Hold Sort' 'Hold Sort' 'Hold Sort'\n",
            " 'Hold Sort' 'Hold Sort' 'Hold Buy' 'Hold Sort' 'Hold Sort' 'Hold Sort'\n",
            " 'Short' 'Hold Sort' 'Hold Sort' 'Hold Buy' 'Short' 'Buy' 'Hold Buy'\n",
            " 'Hold Sort' 'Hold Sort' 'Hold Buy' 'Hold Sort' 'Short' 'Hold Buy'\n",
            " 'Hold Sort' 'Hold Sort' 'Hold Buy' 'Hold Sort' 'Hold Sort' 'Hold Sort'\n",
            " 'Hold Sort' 'Hold Sort' 'Buy' 'Hold Sort' 'Hold Sort' 'Hold Sort' 'Short'\n",
            " 'Hold Buy' 'Hold Buy' 'Hold Sort' 'Hold Sort' 'Hold Sort' 'Hold Sort'\n",
            " 'Short' 'Hold Sort' 'Hold Sort' 'Hold Sort' 'Short' 'Hold Buy'\n",
            " 'Hold Sort' 'Hold Sort' 'Hold Sort' 'Hold Sort' 'Hold Buy' 'Hold Sort']\n"
          ],
          "name": "stdout"
        }
      ]
    },
    {
      "cell_type": "code",
      "metadata": {
        "id": "X4u7nv0_3Y0A",
        "colab_type": "code",
        "colab": {
          "base_uri": "https://localhost:8080/",
          "height": 411
        },
        "outputId": "7984b020-a8fb-44c2-8f61-99b22db44f71"
      },
      "source": [
        "df['per']=((df['Close']-df['Open'])/df['Open'])*100\n",
        "df['per1']=((df['High']-df['Low'])/df['Low'])*100\n",
        "df['mean1']=df['Close'].rolling(window=5).mean()\n",
        "df['std1']=df['Close'].rolling(window=5).std()\n",
        "df.head()"
      ],
      "execution_count": 10,
      "outputs": [
        {
          "output_type": "execute_result",
          "data": {
            "text/html": [
              "<div>\n",
              "<style scoped>\n",
              "    .dataframe tbody tr th:only-of-type {\n",
              "        vertical-align: middle;\n",
              "    }\n",
              "\n",
              "    .dataframe tbody tr th {\n",
              "        vertical-align: top;\n",
              "    }\n",
              "\n",
              "    .dataframe thead th {\n",
              "        text-align: right;\n",
              "    }\n",
              "</style>\n",
              "<table border=\"1\" class=\"dataframe\">\n",
              "  <thead>\n",
              "    <tr style=\"text-align: right;\">\n",
              "      <th></th>\n",
              "      <th>Date</th>\n",
              "      <th>Open</th>\n",
              "      <th>High</th>\n",
              "      <th>Low</th>\n",
              "      <th>Close</th>\n",
              "      <th>Shares Traded</th>\n",
              "      <th>Turnover (Rs. Cr)</th>\n",
              "      <th>Rolling Mean</th>\n",
              "      <th>Bollinger High</th>\n",
              "      <th>Bollinger Low</th>\n",
              "      <th>Call</th>\n",
              "      <th>per</th>\n",
              "      <th>per1</th>\n",
              "      <th>mean1</th>\n",
              "      <th>std1</th>\n",
              "    </tr>\n",
              "  </thead>\n",
              "  <tbody>\n",
              "    <tr>\n",
              "      <th>0</th>\n",
              "      <td>15-May-2017</td>\n",
              "      <td>9433.55</td>\n",
              "      <td>9449.25</td>\n",
              "      <td>9423.10</td>\n",
              "      <td>9445.40</td>\n",
              "      <td>145163953</td>\n",
              "      <td>7790.97</td>\n",
              "      <td>0.0</td>\n",
              "      <td>0.0</td>\n",
              "      <td>0.0</td>\n",
              "      <td>Short</td>\n",
              "      <td>0.125615</td>\n",
              "      <td>0.277510</td>\n",
              "      <td>NaN</td>\n",
              "      <td>NaN</td>\n",
              "    </tr>\n",
              "    <tr>\n",
              "      <th>1</th>\n",
              "      <td>16-May-2017</td>\n",
              "      <td>9461.00</td>\n",
              "      <td>9517.20</td>\n",
              "      <td>9456.35</td>\n",
              "      <td>9512.25</td>\n",
              "      <td>171709433</td>\n",
              "      <td>9209.89</td>\n",
              "      <td>0.0</td>\n",
              "      <td>0.0</td>\n",
              "      <td>0.0</td>\n",
              "      <td>Short</td>\n",
              "      <td>0.541697</td>\n",
              "      <td>0.643483</td>\n",
              "      <td>NaN</td>\n",
              "      <td>NaN</td>\n",
              "    </tr>\n",
              "    <tr>\n",
              "      <th>2</th>\n",
              "      <td>17-May-2017</td>\n",
              "      <td>9517.60</td>\n",
              "      <td>9532.60</td>\n",
              "      <td>9486.10</td>\n",
              "      <td>9525.75</td>\n",
              "      <td>211856040</td>\n",
              "      <td>10726.23</td>\n",
              "      <td>0.0</td>\n",
              "      <td>0.0</td>\n",
              "      <td>0.0</td>\n",
              "      <td>Short</td>\n",
              "      <td>0.085631</td>\n",
              "      <td>0.490191</td>\n",
              "      <td>NaN</td>\n",
              "      <td>NaN</td>\n",
              "    </tr>\n",
              "    <tr>\n",
              "      <th>3</th>\n",
              "      <td>18-May-2017</td>\n",
              "      <td>9453.20</td>\n",
              "      <td>9489.10</td>\n",
              "      <td>9418.10</td>\n",
              "      <td>9429.45</td>\n",
              "      <td>199340647</td>\n",
              "      <td>10782.46</td>\n",
              "      <td>0.0</td>\n",
              "      <td>0.0</td>\n",
              "      <td>0.0</td>\n",
              "      <td>Short</td>\n",
              "      <td>-0.251238</td>\n",
              "      <td>0.753868</td>\n",
              "      <td>NaN</td>\n",
              "      <td>NaN</td>\n",
              "    </tr>\n",
              "    <tr>\n",
              "      <th>4</th>\n",
              "      <td>19-May-2017</td>\n",
              "      <td>9469.90</td>\n",
              "      <td>9505.75</td>\n",
              "      <td>9390.75</td>\n",
              "      <td>9427.90</td>\n",
              "      <td>259861396</td>\n",
              "      <td>11544.77</td>\n",
              "      <td>0.0</td>\n",
              "      <td>0.0</td>\n",
              "      <td>0.0</td>\n",
              "      <td>Short</td>\n",
              "      <td>-0.443510</td>\n",
              "      <td>1.224609</td>\n",
              "      <td>9468.15</td>\n",
              "      <td>47.164301</td>\n",
              "    </tr>\n",
              "  </tbody>\n",
              "</table>\n",
              "</div>"
            ],
            "text/plain": [
              "          Date     Open     High  ...      per1    mean1       std1\n",
              "0  15-May-2017  9433.55  9449.25  ...  0.277510      NaN        NaN\n",
              "1  16-May-2017  9461.00  9517.20  ...  0.643483      NaN        NaN\n",
              "2  17-May-2017  9517.60  9532.60  ...  0.490191      NaN        NaN\n",
              "3  18-May-2017  9453.20  9489.10  ...  0.753868      NaN        NaN\n",
              "4  19-May-2017  9469.90  9505.75  ...  1.224609  9468.15  47.164301\n",
              "\n",
              "[5 rows x 15 columns]"
            ]
          },
          "metadata": {
            "tags": []
          },
          "execution_count": 10
        }
      ]
    },
    {
      "cell_type": "code",
      "metadata": {
        "id": "xfY3pkHO5-GM",
        "colab_type": "code",
        "colab": {
          "base_uri": "https://localhost:8080/",
          "height": 207
        },
        "outputId": "d530a920-fa38-415d-9ff4-a483884babec"
      },
      "source": [
        "    df['Action']=None\n",
        "    for row in range(len(df)):\n",
        "    \n",
        "        if (df['Close'].iloc[row] > df['Bollinger High'].iloc[row]) and (df['Close'].iloc[row-1] < df['Bollinger High'].iloc[row-1]):\n",
        "            df['Action'].iloc[row] = -1\n",
        "        \n",
        "        if (df['Close'].iloc[row] < df['Bollinger Low'].iloc[row]) and (df['Close'].iloc[row-1] > df['Bollinger Low'].iloc[row-1]):\n",
        "            df['Action'].iloc[row] = 1\n",
        "            \n",
        "    df['Action'].fillna(method='ffill',inplace=True)\n",
        "    df.head().fillna(0,inplace=True)\n",
        "    \n"
      ],
      "execution_count": 14,
      "outputs": [
        {
          "output_type": "stream",
          "text": [
            "/usr/local/lib/python3.6/dist-packages/pandas/core/indexing.py:671: SettingWithCopyWarning: \n",
            "A value is trying to be set on a copy of a slice from a DataFrame\n",
            "\n",
            "See the caveats in the documentation: https://pandas.pydata.org/pandas-docs/stable/user_guide/indexing.html#returning-a-view-versus-a-copy\n",
            "  self._setitem_with_indexer(indexer, value)\n",
            "/usr/local/lib/python3.6/dist-packages/pandas/core/frame.py:4153: SettingWithCopyWarning: \n",
            "A value is trying to be set on a copy of a slice from a DataFrame\n",
            "\n",
            "See the caveats in the documentation: https://pandas.pydata.org/pandas-docs/stable/user_guide/indexing.html#returning-a-view-versus-a-copy\n",
            "  downcast=downcast,\n"
          ],
          "name": "stderr"
        }
      ]
    },
    {
      "cell_type": "code",
      "metadata": {
        "id": "zADDq2ST6tVJ",
        "colab_type": "code",
        "colab": {
          "base_uri": "https://localhost:8080/",
          "height": 34
        },
        "outputId": "495ed825-ab17-4296-b95e-4e9fa5696c7a"
      },
      "source": [
        "X=df[['per','per1','std1','mean1']]\n",
        "y=df['Action']\n",
        "X_train,X_test,y_train,y_test=train_test_split(X,y,test_size=0.2,random_state=0)\n",
        "from sklearn.ensemble import RandomForestClassifier\n",
        "classi=RandomForestClassifier()\n",
        "classi.fit(X_train,y_train)\n",
        "classi_pred=classi.predict(X_test)\n",
        "score=classi.score(X_test,y_test)\n",
        "print(score)\n"
      ],
      "execution_count": 15,
      "outputs": [
        {
          "output_type": "stream",
          "text": [
            "0.8181818181818182\n"
          ],
          "name": "stdout"
        }
      ]
    },
    {
      "cell_type": "code",
      "metadata": {
        "id": "Y56JteoA8fR9",
        "colab_type": "code",
        "colab": {
          "base_uri": "https://localhost:8080/",
          "height": 374
        },
        "outputId": "22d9e850-c5d8-4b28-f135-1a87e5030278"
      },
      "source": [
        "\n",
        "df['pct']=df['Close'].pct_change()\n",
        "wts=[0.1]\n",
        "weighted_return=(wts*df['pct'])\n",
        "port_ret = weighted_return.sum(axis=1)\n",
        "cumulative_ret = (port_ret + 1).cumprod()\n",
        "fig = plt.figure()\n",
        "ax1 = fig.add_axes([0.1,0.8])\n",
        "ax1.plot(cumulative_ret)\n",
        "ax1.set_xlabel('Date')\n",
        "ax1.set_ylabel(\"Cumulative Returns\")\n",
        "ax1.set_title(\"Portfolio Cumulative Returns\")\n",
        "plt.show();\n",
        "\n"
      ],
      "execution_count": 37,
      "outputs": [
        {
          "output_type": "error",
          "ename": "ValueError",
          "evalue": "ignored",
          "traceback": [
            "\u001b[0;31m---------------------------------------------------------------------------\u001b[0m",
            "\u001b[0;31mValueError\u001b[0m                                Traceback (most recent call last)",
            "\u001b[0;32m<ipython-input-37-7ee17b45a58e>\u001b[0m in \u001b[0;36m<module>\u001b[0;34m()\u001b[0m\n\u001b[1;32m      3\u001b[0m \u001b[0mwts\u001b[0m\u001b[0;34m=\u001b[0m\u001b[0;34m[\u001b[0m\u001b[0;36m0.1\u001b[0m\u001b[0;34m]\u001b[0m\u001b[0;34m\u001b[0m\u001b[0;34m\u001b[0m\u001b[0m\n\u001b[1;32m      4\u001b[0m \u001b[0mweighted_return\u001b[0m\u001b[0;34m=\u001b[0m\u001b[0;34m(\u001b[0m\u001b[0mwts\u001b[0m\u001b[0;34m*\u001b[0m\u001b[0mdf\u001b[0m\u001b[0;34m[\u001b[0m\u001b[0;34m'pct'\u001b[0m\u001b[0;34m]\u001b[0m\u001b[0;34m)\u001b[0m\u001b[0;34m\u001b[0m\u001b[0;34m\u001b[0m\u001b[0m\n\u001b[0;32m----> 5\u001b[0;31m \u001b[0mport_ret\u001b[0m \u001b[0;34m=\u001b[0m \u001b[0mweighted_return\u001b[0m\u001b[0;34m.\u001b[0m\u001b[0msum\u001b[0m\u001b[0;34m(\u001b[0m\u001b[0maxis\u001b[0m\u001b[0;34m=\u001b[0m\u001b[0;36m1\u001b[0m\u001b[0;34m)\u001b[0m\u001b[0;34m\u001b[0m\u001b[0;34m\u001b[0m\u001b[0m\n\u001b[0m\u001b[1;32m      6\u001b[0m \u001b[0mcumulative_ret\u001b[0m \u001b[0;34m=\u001b[0m \u001b[0;34m(\u001b[0m\u001b[0mport_ret\u001b[0m \u001b[0;34m+\u001b[0m \u001b[0;36m1\u001b[0m\u001b[0;34m)\u001b[0m\u001b[0;34m.\u001b[0m\u001b[0mcumprod\u001b[0m\u001b[0;34m(\u001b[0m\u001b[0;34m)\u001b[0m\u001b[0;34m\u001b[0m\u001b[0;34m\u001b[0m\u001b[0m\n\u001b[1;32m      7\u001b[0m \u001b[0mfig\u001b[0m \u001b[0;34m=\u001b[0m \u001b[0mplt\u001b[0m\u001b[0;34m.\u001b[0m\u001b[0mfigure\u001b[0m\u001b[0;34m(\u001b[0m\u001b[0;34m)\u001b[0m\u001b[0;34m\u001b[0m\u001b[0;34m\u001b[0m\u001b[0m\n",
            "\u001b[0;32m/usr/local/lib/python3.6/dist-packages/pandas/core/generic.py\u001b[0m in \u001b[0;36mstat_func\u001b[0;34m(self, axis, skipna, level, numeric_only, min_count, **kwargs)\u001b[0m\n\u001b[1;32m  11180\u001b[0m             \u001b[0mskipna\u001b[0m\u001b[0;34m=\u001b[0m\u001b[0mskipna\u001b[0m\u001b[0;34m,\u001b[0m\u001b[0;34m\u001b[0m\u001b[0;34m\u001b[0m\u001b[0m\n\u001b[1;32m  11181\u001b[0m             \u001b[0mnumeric_only\u001b[0m\u001b[0;34m=\u001b[0m\u001b[0mnumeric_only\u001b[0m\u001b[0;34m,\u001b[0m\u001b[0;34m\u001b[0m\u001b[0;34m\u001b[0m\u001b[0m\n\u001b[0;32m> 11182\u001b[0;31m             \u001b[0mmin_count\u001b[0m\u001b[0;34m=\u001b[0m\u001b[0mmin_count\u001b[0m\u001b[0;34m,\u001b[0m\u001b[0;34m\u001b[0m\u001b[0;34m\u001b[0m\u001b[0m\n\u001b[0m\u001b[1;32m  11183\u001b[0m         )\n\u001b[1;32m  11184\u001b[0m \u001b[0;34m\u001b[0m\u001b[0m\n",
            "\u001b[0;32m/usr/local/lib/python3.6/dist-packages/pandas/core/series.py\u001b[0m in \u001b[0;36m_reduce\u001b[0;34m(self, op, name, axis, skipna, numeric_only, filter_type, **kwds)\u001b[0m\n\u001b[1;32m   3867\u001b[0m \u001b[0;34m\u001b[0m\u001b[0m\n\u001b[1;32m   3868\u001b[0m         \u001b[0;32mif\u001b[0m \u001b[0maxis\u001b[0m \u001b[0;32mis\u001b[0m \u001b[0;32mnot\u001b[0m \u001b[0;32mNone\u001b[0m\u001b[0;34m:\u001b[0m\u001b[0;34m\u001b[0m\u001b[0;34m\u001b[0m\u001b[0m\n\u001b[0;32m-> 3869\u001b[0;31m             \u001b[0mself\u001b[0m\u001b[0;34m.\u001b[0m\u001b[0m_get_axis_number\u001b[0m\u001b[0;34m(\u001b[0m\u001b[0maxis\u001b[0m\u001b[0;34m)\u001b[0m\u001b[0;34m\u001b[0m\u001b[0;34m\u001b[0m\u001b[0m\n\u001b[0m\u001b[1;32m   3870\u001b[0m \u001b[0;34m\u001b[0m\u001b[0m\n\u001b[1;32m   3871\u001b[0m         \u001b[0;32mif\u001b[0m \u001b[0misinstance\u001b[0m\u001b[0;34m(\u001b[0m\u001b[0mdelegate\u001b[0m\u001b[0;34m,\u001b[0m \u001b[0mCategorical\u001b[0m\u001b[0;34m)\u001b[0m\u001b[0;34m:\u001b[0m\u001b[0;34m\u001b[0m\u001b[0;34m\u001b[0m\u001b[0m\n",
            "\u001b[0;32m/usr/local/lib/python3.6/dist-packages/pandas/core/generic.py\u001b[0m in \u001b[0;36m_get_axis_number\u001b[0;34m(cls, axis)\u001b[0m\n\u001b[1;32m    405\u001b[0m             \u001b[0;32mexcept\u001b[0m \u001b[0mKeyError\u001b[0m\u001b[0;34m:\u001b[0m\u001b[0;34m\u001b[0m\u001b[0;34m\u001b[0m\u001b[0m\n\u001b[1;32m    406\u001b[0m                 \u001b[0;32mpass\u001b[0m\u001b[0;34m\u001b[0m\u001b[0;34m\u001b[0m\u001b[0m\n\u001b[0;32m--> 407\u001b[0;31m         \u001b[0;32mraise\u001b[0m \u001b[0mValueError\u001b[0m\u001b[0;34m(\u001b[0m\u001b[0;34mf\"No axis named {axis} for object type {cls}\"\u001b[0m\u001b[0;34m)\u001b[0m\u001b[0;34m\u001b[0m\u001b[0;34m\u001b[0m\u001b[0m\n\u001b[0m\u001b[1;32m    408\u001b[0m \u001b[0;34m\u001b[0m\u001b[0m\n\u001b[1;32m    409\u001b[0m     \u001b[0;34m@\u001b[0m\u001b[0mclassmethod\u001b[0m\u001b[0;34m\u001b[0m\u001b[0;34m\u001b[0m\u001b[0m\n",
            "\u001b[0;31mValueError\u001b[0m: No axis named 1 for object type <class 'pandas.core.series.Series'>"
          ]
        }
      ]
    }
  ]
}