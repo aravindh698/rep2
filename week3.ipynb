{
  "nbformat": 4,
  "nbformat_minor": 0,
  "metadata": {
    "colab": {
      "name": "Untitled6.ipynb",
      "provenance": [],
      "authorship_tag": "ABX9TyPPQg+C2FmjcjcsM5GthLQy",
      "include_colab_link": true
    },
    "kernelspec": {
      "name": "python3",
      "display_name": "Python 3"
    }
  },
  "cells": [
    {
      "cell_type": "markdown",
      "metadata": {
        "id": "view-in-github",
        "colab_type": "text"
      },
      "source": [
        "<a href=\"https://colab.research.google.com/github/aravindh698/rep2/blob/master/week3.ipynb\" target=\"_parent\"><img src=\"https://colab.research.google.com/assets/colab-badge.svg\" alt=\"Open In Colab\"/></a>"
      ]
    },
    {
      "cell_type": "code",
      "metadata": {
        "id": "W4vA1IyguI5L",
        "colab_type": "code",
        "colab": {}
      },
      "source": [
        "import pandas as pd\n",
        "import numpy as np\n",
        "import matplotlib.pyplot as plt\n"
      ],
      "execution_count": 0,
      "outputs": []
    },
    {
      "cell_type": "code",
      "metadata": {
        "id": "lmrQ6GaQua7n",
        "colab_type": "code",
        "outputId": "b5357425-46c2-4133-ff91-1ba941582464",
        "colab": {
          "base_uri": "https://localhost:8080/",
          "height": 204
        }
      },
      "source": [
        "df=pd.read_csv('GOLD.csv')\n",
        "df.head()"
      ],
      "execution_count": 126,
      "outputs": [
        {
          "output_type": "execute_result",
          "data": {
            "text/html": [
              "<div>\n",
              "<style scoped>\n",
              "    .dataframe tbody tr th:only-of-type {\n",
              "        vertical-align: middle;\n",
              "    }\n",
              "\n",
              "    .dataframe tbody tr th {\n",
              "        vertical-align: top;\n",
              "    }\n",
              "\n",
              "    .dataframe thead th {\n",
              "        text-align: right;\n",
              "    }\n",
              "</style>\n",
              "<table border=\"1\" class=\"dataframe\">\n",
              "  <thead>\n",
              "    <tr style=\"text-align: right;\">\n",
              "      <th></th>\n",
              "      <th>Date</th>\n",
              "      <th>Price</th>\n",
              "      <th>Open</th>\n",
              "      <th>High</th>\n",
              "      <th>Low</th>\n",
              "      <th>Vol.</th>\n",
              "      <th>Change %</th>\n",
              "      <th>Pred</th>\n",
              "      <th>new</th>\n",
              "    </tr>\n",
              "  </thead>\n",
              "  <tbody>\n",
              "    <tr>\n",
              "      <th>0</th>\n",
              "      <td>May 04, 2017</td>\n",
              "      <td>28060</td>\n",
              "      <td>28400</td>\n",
              "      <td>28482</td>\n",
              "      <td>28025</td>\n",
              "      <td>0.08K</td>\n",
              "      <td>-1.79%</td>\n",
              "      <td>738.0</td>\n",
              "      <td>117.570740</td>\n",
              "    </tr>\n",
              "    <tr>\n",
              "      <th>1</th>\n",
              "      <td>May 05, 2017</td>\n",
              "      <td>28184</td>\n",
              "      <td>28136</td>\n",
              "      <td>28382</td>\n",
              "      <td>28135</td>\n",
              "      <td>0.06K</td>\n",
              "      <td>0.44%</td>\n",
              "      <td>-146.0</td>\n",
              "      <td>295.430176</td>\n",
              "    </tr>\n",
              "    <tr>\n",
              "      <th>2</th>\n",
              "      <td>May 08, 2017</td>\n",
              "      <td>28119</td>\n",
              "      <td>28145</td>\n",
              "      <td>28255</td>\n",
              "      <td>28097</td>\n",
              "      <td>7.85K</td>\n",
              "      <td>-0.23%</td>\n",
              "      <td>30.0</td>\n",
              "      <td>132.123714</td>\n",
              "    </tr>\n",
              "    <tr>\n",
              "      <th>3</th>\n",
              "      <td>May 09, 2017</td>\n",
              "      <td>27981</td>\n",
              "      <td>28125</td>\n",
              "      <td>28192</td>\n",
              "      <td>27947</td>\n",
              "      <td>10.10K</td>\n",
              "      <td>-0.49%</td>\n",
              "      <td>357.0</td>\n",
              "      <td>101.298064</td>\n",
              "    </tr>\n",
              "    <tr>\n",
              "      <th>4</th>\n",
              "      <td>May 10, 2017</td>\n",
              "      <td>28007</td>\n",
              "      <td>28060</td>\n",
              "      <td>28146</td>\n",
              "      <td>27981</td>\n",
              "      <td>9.28K</td>\n",
              "      <td>0.09%</td>\n",
              "      <td>124.0</td>\n",
              "      <td>112.153318</td>\n",
              "    </tr>\n",
              "  </tbody>\n",
              "</table>\n",
              "</div>"
            ],
            "text/plain": [
              "           Date  Price   Open   High    Low    Vol. Change %   Pred         new\n",
              "0  May 04, 2017  28060  28400  28482  28025   0.08K   -1.79%  738.0  117.570740\n",
              "1  May 05, 2017  28184  28136  28382  28135   0.06K    0.44% -146.0  295.430176\n",
              "2  May 08, 2017  28119  28145  28255  28097   7.85K   -0.23%   30.0  132.123714\n",
              "3  May 09, 2017  27981  28125  28192  27947  10.10K   -0.49%  357.0  101.298064\n",
              "4  May 10, 2017  28007  28060  28146  27981   9.28K    0.09%  124.0  112.153318"
            ]
          },
          "metadata": {
            "tags": []
          },
          "execution_count": 126
        }
      ]
    },
    {
      "cell_type": "code",
      "metadata": {
        "id": "9sBvgqAnuqOI",
        "colab_type": "code",
        "outputId": "fc043da1-8c39-43df-8c50-ea4c3beb09ac",
        "colab": {
          "base_uri": "https://localhost:8080/",
          "height": 289
        }
      },
      "source": [
        "df.info()"
      ],
      "execution_count": 127,
      "outputs": [
        {
          "output_type": "stream",
          "text": [
            "<class 'pandas.core.frame.DataFrame'>\n",
            "RangeIndex: 512 entries, 0 to 511\n",
            "Data columns (total 9 columns):\n",
            " #   Column    Non-Null Count  Dtype  \n",
            "---  ------    --------------  -----  \n",
            " 0   Date      512 non-null    object \n",
            " 1   Price     512 non-null    int64  \n",
            " 2   Open      512 non-null    int64  \n",
            " 3   High      512 non-null    int64  \n",
            " 4   Low       512 non-null    int64  \n",
            " 5   Vol.      512 non-null    object \n",
            " 6   Change %  512 non-null    object \n",
            " 7   Pred      411 non-null    float64\n",
            " 8   new       512 non-null    float64\n",
            "dtypes: float64(2), int64(4), object(3)\n",
            "memory usage: 36.1+ KB\n"
          ],
          "name": "stdout"
        }
      ]
    },
    {
      "cell_type": "code",
      "metadata": {
        "id": "6-xoBjXfuutO",
        "colab_type": "code",
        "colab": {}
      },
      "source": [
        "df.isnull().sum()\n",
        "df['Date']=pd.DatetimeIndex(df['Date'])\n",
        "df['Pred']=df['Pred'].fillna(method='ffill')\n",
        "df=df[df['Open'] < 33850]"
      ],
      "execution_count": 0,
      "outputs": []
    },
    {
      "cell_type": "code",
      "metadata": {
        "id": "eLzduzKF9KxE",
        "colab_type": "code",
        "outputId": "8e9c56de-8072-4e96-c122-6aed4923ce17",
        "colab": {
          "base_uri": "https://localhost:8080/",
          "height": 328
        }
      },
      "source": [
        "cdf=df[['Price','Open','High','Low','Pred','new']]\n",
        "cdf.head(9)"
      ],
      "execution_count": 129,
      "outputs": [
        {
          "output_type": "execute_result",
          "data": {
            "text/html": [
              "<div>\n",
              "<style scoped>\n",
              "    .dataframe tbody tr th:only-of-type {\n",
              "        vertical-align: middle;\n",
              "    }\n",
              "\n",
              "    .dataframe tbody tr th {\n",
              "        vertical-align: top;\n",
              "    }\n",
              "\n",
              "    .dataframe thead th {\n",
              "        text-align: right;\n",
              "    }\n",
              "</style>\n",
              "<table border=\"1\" class=\"dataframe\">\n",
              "  <thead>\n",
              "    <tr style=\"text-align: right;\">\n",
              "      <th></th>\n",
              "      <th>Price</th>\n",
              "      <th>Open</th>\n",
              "      <th>High</th>\n",
              "      <th>Low</th>\n",
              "      <th>Pred</th>\n",
              "      <th>new</th>\n",
              "    </tr>\n",
              "  </thead>\n",
              "  <tbody>\n",
              "    <tr>\n",
              "      <th>0</th>\n",
              "      <td>28060</td>\n",
              "      <td>28400</td>\n",
              "      <td>28482</td>\n",
              "      <td>28025</td>\n",
              "      <td>738.0</td>\n",
              "      <td>117.570740</td>\n",
              "    </tr>\n",
              "    <tr>\n",
              "      <th>1</th>\n",
              "      <td>28184</td>\n",
              "      <td>28136</td>\n",
              "      <td>28382</td>\n",
              "      <td>28135</td>\n",
              "      <td>-146.0</td>\n",
              "      <td>295.430176</td>\n",
              "    </tr>\n",
              "    <tr>\n",
              "      <th>2</th>\n",
              "      <td>28119</td>\n",
              "      <td>28145</td>\n",
              "      <td>28255</td>\n",
              "      <td>28097</td>\n",
              "      <td>30.0</td>\n",
              "      <td>132.123714</td>\n",
              "    </tr>\n",
              "    <tr>\n",
              "      <th>3</th>\n",
              "      <td>27981</td>\n",
              "      <td>28125</td>\n",
              "      <td>28192</td>\n",
              "      <td>27947</td>\n",
              "      <td>357.0</td>\n",
              "      <td>101.298064</td>\n",
              "    </tr>\n",
              "    <tr>\n",
              "      <th>4</th>\n",
              "      <td>28007</td>\n",
              "      <td>28060</td>\n",
              "      <td>28146</td>\n",
              "      <td>27981</td>\n",
              "      <td>124.0</td>\n",
              "      <td>112.153318</td>\n",
              "    </tr>\n",
              "    <tr>\n",
              "      <th>5</th>\n",
              "      <td>28022</td>\n",
              "      <td>27995</td>\n",
              "      <td>28100</td>\n",
              "      <td>27945</td>\n",
              "      <td>149.0</td>\n",
              "      <td>182.427089</td>\n",
              "    </tr>\n",
              "    <tr>\n",
              "      <th>6</th>\n",
              "      <td>28019</td>\n",
              "      <td>28088</td>\n",
              "      <td>28195</td>\n",
              "      <td>27985</td>\n",
              "      <td>167.0</td>\n",
              "      <td>141.255137</td>\n",
              "    </tr>\n",
              "    <tr>\n",
              "      <th>7</th>\n",
              "      <td>28008</td>\n",
              "      <td>28049</td>\n",
              "      <td>28157</td>\n",
              "      <td>27996</td>\n",
              "      <td>22.0</td>\n",
              "      <td>120.069010</td>\n",
              "    </tr>\n",
              "    <tr>\n",
              "      <th>8</th>\n",
              "      <td>28109</td>\n",
              "      <td>28025</td>\n",
              "      <td>28159</td>\n",
              "      <td>28025</td>\n",
              "      <td>34.0</td>\n",
              "      <td>218.401641</td>\n",
              "    </tr>\n",
              "  </tbody>\n",
              "</table>\n",
              "</div>"
            ],
            "text/plain": [
              "   Price   Open   High    Low   Pred         new\n",
              "0  28060  28400  28482  28025  738.0  117.570740\n",
              "1  28184  28136  28382  28135 -146.0  295.430176\n",
              "2  28119  28145  28255  28097   30.0  132.123714\n",
              "3  27981  28125  28192  27947  357.0  101.298064\n",
              "4  28007  28060  28146  27981  124.0  112.153318\n",
              "5  28022  27995  28100  27945  149.0  182.427089\n",
              "6  28019  28088  28195  27985  167.0  141.255137\n",
              "7  28008  28049  28157  27996   22.0  120.069010\n",
              "8  28109  28025  28159  28025   34.0  218.401641"
            ]
          },
          "metadata": {
            "tags": []
          },
          "execution_count": 129
        }
      ]
    },
    {
      "cell_type": "code",
      "metadata": {
        "id": "fxT8Z8mH-Wrk",
        "colab_type": "code",
        "outputId": "26899fff-f7ff-4f1e-9811-4eee9fb437d7",
        "colab": {
          "base_uri": "https://localhost:8080/",
          "height": 281
        }
      },
      "source": [
        "viz=cdf[['Price','Open','High','Low','Pred','new']]\n",
        "viz.hist()\n",
        "plt.show()"
      ],
      "execution_count": 130,
      "outputs": [
        {
          "output_type": "display_data",
          "data": {
            "image/png": "[encoded data removed]",
            "text/plain": [
              "<Figure size 432x288 with 6 Axes>"
            ]
          },
          "metadata": {
            "tags": [],
            "needs_background": "light"
          }
        }
      ]
    },
    {
      "cell_type": "code",
      "metadata": {
        "id": "zGEqiJam-9Yk",
        "colab_type": "code",
        "outputId": "4f9cc287-aa15-43e1-ff7d-40fc5f4d930d",
        "colab": {
          "base_uri": "https://localhost:8080/",
          "height": 279
        }
      },
      "source": [
        "msk=np.random.rand(len(df)) < 0.80\n",
        "train=cdf[msk]\n",
        "test=cdf[~msk]\n",
        "plt.scatter(train.Open,train.Pred,color='blue')\n",
        "plt.xlabel(\"Open\")\n",
        "plt.ylabel(\"Pred\")\n",
        "plt.show()"
      ],
      "execution_count": 131,
      "outputs": [
        {
          "output_type": "display_data",
          "data": {
            "image/png": "[encoded data removed]",
            "text/plain": [
              "<Figure size 432x288 with 1 Axes>"
            ]
          },
          "metadata": {
            "tags": [],
            "needs_background": "light"
          }
        }
      ]
    },
    {
      "cell_type": "code",
      "metadata": {
        "id": "jrI0k-p8A4Cc",
        "colab_type": "code",
        "outputId": "f143e726-5a13-4268-f5c7-bed1f365e9ce",
        "colab": {
          "base_uri": "https://localhost:8080/",
          "height": 51
        }
      },
      "source": [
        "from sklearn import linear_model\n",
        "regr=linear_model.LinearRegression()\n",
        "train_x=np.asanyarray(train[['Open']])\n",
        "train_y=np.asanyarray(train[['Pred']])\n",
        "regr.fit(train_x,train_y)\n",
        "print('coeff',regr.coef_)\n",
        "print('intercept',regr.intercept_)"
      ],
      "execution_count": 132,
      "outputs": [
        {
          "output_type": "stream",
          "text": [
            "coeff [[0.05184819]]\n",
            "intercept [-1195.58798032]\n"
          ],
          "name": "stdout"
        }
      ]
    },
    {
      "cell_type": "code",
      "metadata": {
        "id": "-Wrx2ZTvFR6z",
        "colab_type": "code",
        "outputId": "38927ead-8a13-468c-904f-a852346ea079",
        "colab": {
          "base_uri": "https://localhost:8080/",
          "height": 296
        }
      },
      "source": [
        "plt.scatter(train.Open, train.Pred,  color='blue')\n",
        "plt.plot(train_x, regr.coef_[0][0]*train_x + regr.intercept_[0], '-r')\n",
        "plt.xlabel(\"Open\")\n",
        "plt.ylabel(\"Pred\")\n"
      ],
      "execution_count": 133,
      "outputs": [
        {
          "output_type": "execute_result",
          "data": {
            "text/plain": [
              "Text(0, 0.5, 'Pred')"
            ]
          },
          "metadata": {
            "tags": []
          },
          "execution_count": 133
        },
        {
          "output_type": "display_data",
          "data": {
            "image/png": "[encoded data removed]",
            "text/plain": [
              "<Figure size 432x288 with 1 Axes>"
            ]
          },
          "metadata": {
            "tags": [],
            "needs_background": "light"
          }
        }
      ]
    },
    {
      "cell_type": "code",
      "metadata": {
        "id": "WAS21F0hF5Ef",
        "colab_type": "code",
        "outputId": "5fb4c9b5-c754-465e-91fb-8cc0e9457064",
        "colab": {
          "base_uri": "https://localhost:8080/",
          "height": 1000
        }
      },
      "source": [
        "test_x = np.asanyarray(test[['Open']])\n",
        "test_y = np.asanyarray(test[['Pred']])\n",
        "test_y_ = regr.predict(test_x)\n",
        "print(test_y_)\n"
      ],
      "execution_count": 134,
      "outputs": [
        {
          "output_type": "stream",
          "text": [
            "[[276.9006118 ]\n",
            " [263.67932339]\n",
            " [259.27222725]\n",
            " [255.90209491]\n",
            " [296.03259386]\n",
            " [291.57364953]\n",
            " [301.63219837]\n",
            " [330.77088107]\n",
            " [308.06137391]\n",
            " [284.10751019]\n",
            " [283.64087648]\n",
            " [271.8194892 ]\n",
            " [277.47094189]\n",
            " [283.22609097]\n",
            " [247.60638453]\n",
            " [264.45704624]\n",
            " [270.16034712]\n",
            " [277.67833465]\n",
            " [313.2461929 ]\n",
            " [330.30424736]\n",
            " [343.62923216]\n",
            " [378.00458204]\n",
            " [355.1913785 ]\n",
            " [339.89616249]\n",
            " [329.78576546]\n",
            " [345.59946337]\n",
            " [341.19236723]\n",
            " [319.93460939]\n",
            " [314.7497904 ]\n",
            " [344.30325863]\n",
            " [305.41711623]\n",
            " [289.86265927]\n",
            " [278.55975388]\n",
            " [289.60341832]\n",
            " [285.19632218]\n",
            " [325.22312476]\n",
            " [325.22312476]\n",
            " [344.35510682]\n",
            " [366.33873932]\n",
            " [362.96860698]\n",
            " [397.03286772]\n",
            " [385.62626595]\n",
            " [376.39728815]\n",
            " [392.0035933 ]\n",
            " [381.271018  ]\n",
            " [375.93065444]\n",
            " [403.41019507]\n",
            " [402.37323127]\n",
            " [420.83118686]\n",
            " [407.66174664]\n",
            " [424.30501558]\n",
            " [404.18791792]\n",
            " [424.2013192 ]\n",
            " [417.92768823]\n",
            " [390.34445122]\n",
            " [383.86342749]\n",
            " [385.8855069 ]\n",
            " [368.62005967]\n",
            " [355.81355677]\n",
            " [352.598969  ]\n",
            " [352.96190633]\n",
            " [336.52603015]\n",
            " [363.74632982]\n",
            " [372.19758477]\n",
            " [373.18270038]\n",
            " [385.83365871]\n",
            " [386.24844422]\n",
            " [415.43897512]\n",
            " [422.07554342]\n",
            " [447.94779016]\n",
            " [446.44419266]\n",
            " [417.40920633]\n",
            " [420.36455315]\n",
            " [441.57046281]\n",
            " [435.14128727]\n",
            " [499.12195356]\n",
            " [439.49653521]\n",
            " [541.27453192]\n",
            " [548.06664479]\n",
            " [483.98228212]\n",
            " [461.42831953]\n",
            " [462.51713151]\n",
            " [458.11003538]\n",
            " [461.53201591]\n",
            " [456.76198244]\n",
            " [473.87188509]\n",
            " [437.57815219]\n",
            " [452.92521639]\n",
            " [470.34620818]\n",
            " [436.59303658]\n",
            " [443.02221213]\n",
            " [433.48214519]]\n"
          ],
          "name": "stdout"
        }
      ]
    },
    {
      "cell_type": "code",
      "metadata": {
        "id": "9A4Q2O25Jvu3",
        "colab_type": "code",
        "outputId": "2bf49d3f-4788-4c12-d73b-8d96a4b0f90c",
        "colab": {
          "base_uri": "https://localhost:8080/",
          "height": 34
        }
      },
      "source": [
        "from sklearn.metrics import r2_score\n",
        "print(\"r2: % .2f\"% r2_score(test_y_,test_y))"
      ],
      "execution_count": 135,
      "outputs": [
        {
          "output_type": "stream",
          "text": [
            "r2: -6.98\n"
          ],
          "name": "stdout"
        }
      ]
    },
    {
      "cell_type": "code",
      "metadata": {
        "id": "LZU_D_UTUkfl",
        "colab_type": "code",
        "colab": {
          "base_uri": "https://localhost:8080/",
          "height": 255
        },
        "outputId": "8eb5214a-7491-4b55-d5b6-572bfa131014"
      },
      "source": [
        "\n",
        "# import libraries\n",
        "import pandas as pd\n",
        "import statsmodels.api as sm\n",
        "fb = pd.read_csv('ASHOKA.csv', index_col='Date',)\n",
        "sp_500 = pd.read_csv('Nifty50.csv', index_col='Date')\n",
        "\n",
        "# joining the closing prices of the two datasets \n",
        "monthly_prices = pd.concat([fb['Close Price'], sp_500['Close']], axis=1)\n",
        "monthly_prices.columns = ['FB', '^GSPC']\n",
        "\n",
        "# check the head of the dataframe\n",
        "print(monthly_prices.head())\n",
        "\n",
        "# calculate monthly returns\n",
        "monthly_returns = monthly_prices.pct_change(1)\n",
        "clean_monthly_returns = monthly_returns.dropna(axis=0)  # drop first missing row\n",
        "print(clean_monthly_returns.head())"
      ],
      "execution_count": 147,
      "outputs": [
        {
          "output_type": "stream",
          "text": [
            "                 FB    ^GSPC\n",
            "Date                        \n",
            "15-May-2017  216.05  9445.40\n",
            "16-May-2017  214.90  9512.25\n",
            "17-May-2017  217.00  9525.75\n",
            "18-May-2017  209.65  9429.45\n",
            "19-May-2017  206.25  9427.90\n",
            "                   FB     ^GSPC\n",
            "Date                           \n",
            "16-May-2017 -0.005323  0.007078\n",
            "17-May-2017  0.009772  0.001419\n",
            "18-May-2017 -0.033871 -0.010109\n",
            "19-May-2017 -0.016218 -0.000164\n",
            "22-May-2017 -0.022545  0.001098\n"
          ],
          "name": "stdout"
        }
      ]
    },
    {
      "cell_type": "code",
      "metadata": {
        "id": "n-d-4aqOV4Ya",
        "colab_type": "code",
        "colab": {
          "base_uri": "https://localhost:8080/",
          "height": 442
        },
        "outputId": "ca02deb2-3a86-43f4-bfdd-699a6d9cb83f"
      },
      "source": [
        "\n",
        "# split dependent and independent variable\n",
        "X = clean_monthly_returns['^GSPC']\n",
        "y = clean_monthly_returns['FB']\n",
        "\n",
        "# Add a constant to the independent value\n",
        "X1 = sm.add_constant(X)\n",
        "\n",
        "# make regression model \n",
        "model = sm.OLS(y, X1)\n",
        "\n",
        "# fit model and print results\n",
        "results = model.fit()\n",
        "print(results.summary())"
      ],
      "execution_count": 148,
      "outputs": [
        {
          "output_type": "stream",
          "text": [
            "                            OLS Regression Results                            \n",
            "==============================================================================\n",
            "Dep. Variable:                     FB   R-squared:                       0.072\n",
            "Model:                            OLS   Adj. R-squared:                  0.070\n",
            "Method:                 Least Squares   F-statistic:                     38.29\n",
            "Date:                Sat, 06 Jun 2020   Prob (F-statistic):           1.29e-09\n",
            "Time:                        01:56:22   Log-Likelihood:                 1083.9\n",
            "No. Observations:                 493   AIC:                            -2164.\n",
            "Df Residuals:                     491   BIC:                            -2155.\n",
            "Df Model:                           1                                         \n",
            "Covariance Type:            nonrobust                                         \n",
            "==============================================================================\n",
            "                 coef    std err          t      P>|t|      [0.025      0.975]\n",
            "------------------------------------------------------------------------------\n",
            "const         -0.0012      0.001     -0.993      0.321      -0.004       0.001\n",
            "^GSPC          1.0415      0.168      6.188      0.000       0.711       1.372\n",
            "==============================================================================\n",
            "Omnibus:                      408.171   Durbin-Watson:                   1.905\n",
            "Prob(Omnibus):                  0.000   Jarque-Bera (JB):            34694.924\n",
            "Skew:                          -2.961   Prob(JB):                         0.00\n",
            "Kurtosis:                      43.669   Cond. No.                         139.\n",
            "==============================================================================\n",
            "\n",
            "Warnings:\n",
            "[1] Standard Errors assume that the covariance matrix of the errors is correctly specified.\n"
          ],
          "name": "stdout"
        }
      ]
    },
    {
      "cell_type": "code",
      "metadata": {
        "id": "TOqwA5JHWFjI",
        "colab_type": "code",
        "colab": {
          "base_uri": "https://localhost:8080/",
          "height": 34
        },
        "outputId": "ccc25858-9e8f-44c4-d439-6618e38a13ed"
      },
      "source": [
        "\n",
        "# alternatively scipy linear regression\n",
        "from scipy import stats\n",
        "slope, intercept, r_value, p_value, std_err = stats.linregress(X, y)\n",
        "\n",
        "print(slope)\n"
      ],
      "execution_count": 149,
      "outputs": [
        {
          "output_type": "stream",
          "text": [
            "1.0415184035649745\n"
          ],
          "name": "stdout"
        }
      ]
    },
    {
      "cell_type": "markdown",
      "metadata": {
        "id": "sxasvsX6ZMpr",
        "colab_type": "text"
      },
      "source": [
        "Here we see that the beta value is 1.041 approximatly equal to one so it indicates that the price move along with the market "
      ]
    }
  ]
}