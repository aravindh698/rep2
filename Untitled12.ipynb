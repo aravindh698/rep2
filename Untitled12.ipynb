{
  "nbformat": 4,
  "nbformat_minor": 0,
  "metadata": {
    "colab": {
      "name": "Untitled12.ipynb",
      "provenance": [],
      "authorship_tag": "ABX9TyMcnTQxSX7AKvIMwYRznn4U",
      "include_colab_link": true
    },
    "kernelspec": {
      "name": "python3",
      "display_name": "Python 3"
    }
  },
  "cells": [
    {
      "cell_type": "markdown",
      "metadata": {
        "id": "view-in-github",
        "colab_type": "text"
      },
      "source": [
        "<a href=\"https://colab.research.google.com/github/aravindh698/rep2/blob/master/Untitled12.ipynb\" target=\"_parent\"><img src=\"https://colab.research.google.com/assets/colab-badge.svg\" alt=\"Open In Colab\"/></a>"
      ]
    },
    {
      "cell_type": "code",
      "metadata": {
        "id": "75p9xyJQ_xT6",
        "colab_type": "code",
        "colab": {}
      },
      "source": [
        "import pandas as pd\n",
        "import numpy as np\n",
        "import matplotlib.pyplot as plt\n"
      ],
      "execution_count": 66,
      "outputs": []
    },
    {
      "cell_type": "code",
      "metadata": {
        "id": "7If4c45lAoMc",
        "colab_type": "code",
        "colab": {}
      },
      "source": [
        "df1=pd.read_csv('/content/ADANIPORTS.csv')\n",
        "df2=pd.read_csv('/content/ADANIPOWER.csv')\n",
        "df3=pd.read_csv('/content/AJANTPHARM.csv')\n",
        "df4=pd.read_csv('/content/AMARAJABAT.csv')\n",
        "df5=pd.read_csv('/content/APOLLOTYRE.csv')\n",
        "df6=pd.read_csv('/content/ASHOKA.csv')\n",
        "df7=pd.read_csv('/content/ASIANPAINT.csv')\n",
        "df8=pd.read_csv('/content/AXISBANK.csv')\n",
        "df9=pd.read_csv('/content/BAJAJELEC.csv')\n",
        "df10=pd.read_csv('/content/BAJFINANCE.csv')\n",
        "df11=pd.read_csv('/content/BERGEPAINT.csv')\n",
        "df12=pd.read_csv('/content/BOMDYEING.csv')\n",
        "df13=pd.read_csv('/content/BPCL.csv')\n",
        "df14=pd.read_csv('/content/CASTROLIND.csv')\n",
        "df15=pd.read_csv('/content/CENTURYPLY.csv')\n",
        "df16=pd.read_csv('/content/CIPLA.csv')\n",
        "df17=pd.read_csv('/content/CUMMINSIND.csv')\n",
        "df18=pd.read_csv('/content/DHFL.csv')\n",
        "df19=pd.read_csv('/content/DRREDDY.csv')\n",
        "df20=pd.read_csv('/content/EICHERMOT.csv')\n",
        "df21=pd.read_csv('/content/EXIDEIND.csv')\n",
        "df22=pd.read_csv('/content/FORTIS.csv')\n",
        "df23=pd.read_csv('/content/GAIL.csv')\n",
        "df24=pd.read_csv('/content/GMRINFRA.csv')\n",
        "df25=pd.read_csv('/content/GUJALKALI.csv')\n",
        "df26=pd.read_csv('/content/HDFC.csv')\n",
        "df27=pd.read_csv('/content/IRCON.csv')\n",
        "df28=pd.read_csv('/content/ITDC.csv')\n",
        "df29=pd.read_csv('/content/JETAIRWAYS.csv')\n",
        "df30=pd.read_csv('/content/IDFC.csv')\n"
      ],
      "execution_count": 67,
      "outputs": []
    },
    {
      "cell_type": "code",
      "metadata": {
        "id": "c9hEeB0TD6x2",
        "colab_type": "code",
        "colab": {}
      },
      "source": [
        "df31=pd.DataFrame({'ADANI':df1['Close Price'],\n",
        "                  'ADANIPOWER':df2['Close Price'],\n",
        "                  'Ajantha':df3['Close Price'],\n",
        "                  'Amaraj':df4['Close Price'],\n",
        "                  'Apollo':df5['Close Price'],\n",
        "                  'Ashoka':df6['Close Price'],\n",
        "                  'Asaian':df7['Close Price'],\n",
        "                  'Axis':df8['Close Price'],\n",
        "                  'Bajaje':df9['Close Price'],\n",
        "                  'Bajajf':df10['Close Price'],\n",
        "                  'Bergep':df11['Close Price'],\n",
        "                  'Bombaydy':df12['Close Price'],\n",
        "                  'Bpcl':df13['Close Price'],\n",
        "                  'Castro':df14['Close Price'],\n",
        "                  'Century':df15['Close Price'],\n",
        "                  'CIPLA':df16['Close Price'],\n",
        "                  'Cummin':df17['Close Price'],\n",
        "                  'DHFL':df18['Close Price'],\n",
        "                  'DRRED':df19['Close Price'],\n",
        "                  'Eicher':df20['Close Price'],\n",
        "                  'Exide':df21['Close Price'],\n",
        "                  'Forits':df22['Close Price'],\n",
        "                  'Gail':df23['Close Price'],\n",
        "                  'Grim':df24['Close Price'],\n",
        "                  'Gujkal':df25['Close Price'],\n",
        "                  'HDFC':df26['Close Price'],\n",
        "                  'Iroc':df27['Close Price'],\n",
        "                  'Itdc':df28['Close Price'],\n",
        "                  'Jet':df29['Close Price'],\n",
        "                  'IDFC':df30['Close Price']\n",
        "                  })\n"
      ],
      "execution_count": 68,
      "outputs": []
    },
    {
      "cell_type": "code",
      "metadata": {
        "id": "EmQ1JbLLRgyN",
        "colab_type": "code",
        "colab": {
          "base_uri": "https://localhost:8080/",
          "height": 359
        },
        "outputId": "5282bc1c-3c0c-4631-e911-5f51dc04d8eb"
      },
      "source": [
        "returns = df31.pct_change().mean() * 252\n",
        "std = df31.pct_change().std() * np.sqrt(252)\n",
        " \n",
        "#Concatenating the returns and variances into a single data-frame\n",
        "ret_var = pd.concat([returns, std], axis = 1).dropna()\n",
        "ret_var.columns = [\"Returns\",\"Standard Deviation\"]\n",
        "ret_var.head(10)"
      ],
      "execution_count": 69,
      "outputs": [
        {
          "output_type": "execute_result",
          "data": {
            "text/html": [
              "<div>\n",
              "<style scoped>\n",
              "    .dataframe tbody tr th:only-of-type {\n",
              "        vertical-align: middle;\n",
              "    }\n",
              "\n",
              "    .dataframe tbody tr th {\n",
              "        vertical-align: top;\n",
              "    }\n",
              "\n",
              "    .dataframe thead th {\n",
              "        text-align: right;\n",
              "    }\n",
              "</style>\n",
              "<table border=\"1\" class=\"dataframe\">\n",
              "  <thead>\n",
              "    <tr style=\"text-align: right;\">\n",
              "      <th></th>\n",
              "      <th>Returns</th>\n",
              "      <th>Standard Deviation</th>\n",
              "    </tr>\n",
              "  </thead>\n",
              "  <tbody>\n",
              "    <tr>\n",
              "      <th>ADANI</th>\n",
              "      <td>0.006225</td>\n",
              "      <td>0.099279</td>\n",
              "    </tr>\n",
              "    <tr>\n",
              "      <th>ADANIPOWER</th>\n",
              "      <td>0.031413</td>\n",
              "      <td>0.195757</td>\n",
              "    </tr>\n",
              "    <tr>\n",
              "      <th>Ajantha</th>\n",
              "      <td>-0.017894</td>\n",
              "      <td>0.106510</td>\n",
              "    </tr>\n",
              "    <tr>\n",
              "      <th>Amaraj</th>\n",
              "      <td>-0.017355</td>\n",
              "      <td>0.085768</td>\n",
              "    </tr>\n",
              "    <tr>\n",
              "      <th>Apollo</th>\n",
              "      <td>-0.006617</td>\n",
              "      <td>0.099502</td>\n",
              "    </tr>\n",
              "    <tr>\n",
              "      <th>Ashoka</th>\n",
              "      <td>-0.021456</td>\n",
              "      <td>0.142025</td>\n",
              "    </tr>\n",
              "    <tr>\n",
              "      <th>Asaian</th>\n",
              "      <td>0.010083</td>\n",
              "      <td>0.067157</td>\n",
              "    </tr>\n",
              "    <tr>\n",
              "      <th>Axis</th>\n",
              "      <td>0.023996</td>\n",
              "      <td>0.089182</td>\n",
              "    </tr>\n",
              "    <tr>\n",
              "      <th>Bajaje</th>\n",
              "      <td>0.032522</td>\n",
              "      <td>0.129111</td>\n",
              "    </tr>\n",
              "    <tr>\n",
              "      <th>Bajajf</th>\n",
              "      <td>0.046751</td>\n",
              "      <td>0.103263</td>\n",
              "    </tr>\n",
              "  </tbody>\n",
              "</table>\n",
              "</div>"
            ],
            "text/plain": [
              "             Returns  Standard Deviation\n",
              "ADANI       0.006225            0.099279\n",
              "ADANIPOWER  0.031413            0.195757\n",
              "Ajantha    -0.017894            0.106510\n",
              "Amaraj     -0.017355            0.085768\n",
              "Apollo     -0.006617            0.099502\n",
              "Ashoka     -0.021456            0.142025\n",
              "Asaian      0.010083            0.067157\n",
              "Axis        0.023996            0.089182\n",
              "Bajaje      0.032522            0.129111\n",
              "Bajajf      0.046751            0.103263"
            ]
          },
          "metadata": {
            "tags": []
          },
          "execution_count": 69
        }
      ]
    },
    {
      "cell_type": "code",
      "metadata": {
        "id": "p2nfnTBoSv8H",
        "colab_type": "code",
        "colab": {
          "base_uri": "https://localhost:8080/",
          "height": 281
        },
        "outputId": "c7d2c35a-816a-4797-f8c0-a42834675a21"
      },
      "source": [
        "X =  ret_var.values \n",
        "sse = []\n",
        "for k in range(2,15):\n",
        "    kmeans = KMeans(n_clusters = k)\n",
        "    kmeans.fit(X)\n",
        "    \n",
        "    #SSE for each n_clusters\n",
        "    sse.append(kmeans.inertia_) \n",
        " \n",
        "plt.plot(range(2,15), sse)\n",
        "plt.title(\"Elbow Curve\")\n",
        "plt.show()\n"
      ],
      "execution_count": 70,
      "outputs": [
        {
          "output_type": "display_data",
          "data": {
            "image/png": "[encoded data removed]",
            "text/plain": [
              "<Figure size 432x288 with 1 Axes>"
            ]
          },
          "metadata": {
            "tags": [],
            "needs_background": "light"
          }
        }
      ]
    },
    {
      "cell_type": "code",
      "metadata": {
        "id": "RNhISYHJTB3O",
        "colab_type": "code",
        "colab": {
          "base_uri": "https://localhost:8080/",
          "height": 265
        },
        "outputId": "79921ff4-defd-422e-f2b0-bc2fb482847f"
      },
      "source": [
        "kmeans = KMeans(n_clusters = 3).fit(X)\n",
        "centroids = kmeans.cluster_centers_\n",
        "plt.scatter(X[:,0],X[:,1], c = kmeans.labels_, cmap =\"rainbow\")\n",
        "plt.show()"
      ],
      "execution_count": 85,
      "outputs": [
        {
          "output_type": "display_data",
          "data": {
            "image/png": "[encoded data removed]",
            "text/plain": [
              "<Figure size 432x288 with 1 Axes>"
            ]
          },
          "metadata": {
            "tags": [],
            "needs_background": "light"
          }
        }
      ]
    },
    {
      "cell_type": "code",
      "metadata": {
        "id": "YW84_JEoVRWx",
        "colab_type": "code",
        "colab": {
          "base_uri": "https://localhost:8080/",
          "height": 265
        },
        "outputId": "6bb9e062-d24e-4850-9f9c-8cec8fb83628"
      },
      "source": [
        "stdOrder = ret_var.sort_values('Standard Deviation',ascending=False)\n",
        "first_symbol = stdOrder.index[0]\n",
        " \n",
        "# Drop the columns with the outliers values\n",
        "ret_var.drop(first_symbol,inplace=True)\n",
        "# Fit the model without the outliers\n",
        "X = ret_var.values\n",
        "kmeans =KMeans(n_clusters = 3).fit(X)\n",
        "centroids = kmeans.cluster_centers_\n",
        "plt.scatter(X[:,0],X[:,1], c = kmeans.labels_, cmap =\"rainbow\")\n",
        "plt.show()\n"
      ],
      "execution_count": 83,
      "outputs": [
        {
          "output_type": "display_data",
          "data": {
            "image/png": "[encoded data removed]",
            "text/plain": [
              "<Figure size 432x288 with 1 Axes>"
            ]
          },
          "metadata": {
            "tags": [],
            "needs_background": "light"
          }
        }
      ]
    },
    {
      "cell_type": "code",
      "metadata": {
        "id": "KjWREsMSVd7e",
        "colab_type": "code",
        "colab": {
          "base_uri": "https://localhost:8080/",
          "height": 886
        },
        "outputId": "4af866fc-8e64-4bf2-fadd-2a921e3c40b0"
      },
      "source": [
        "stocks = pd.DataFrame(ret_var.index) # the dataframe structure allow concatenation\n",
        "cluster_labels = pd.DataFrame(kmeans.labels_)\n",
        "stockClusters = pd.concat([stocks, cluster_labels],axis = 1)\n",
        "stockClusters.columns = ['Symbol','Cluster']\n",
        "stockClusters.head(30)\n"
      ],
      "execution_count": 87,
      "outputs": [
        {
          "output_type": "execute_result",
          "data": {
            "text/html": [
              "<div>\n",
              "<style scoped>\n",
              "    .dataframe tbody tr th:only-of-type {\n",
              "        vertical-align: middle;\n",
              "    }\n",
              "\n",
              "    .dataframe tbody tr th {\n",
              "        vertical-align: top;\n",
              "    }\n",
              "\n",
              "    .dataframe thead th {\n",
              "        text-align: right;\n",
              "    }\n",
              "</style>\n",
              "<table border=\"1\" class=\"dataframe\">\n",
              "  <thead>\n",
              "    <tr style=\"text-align: right;\">\n",
              "      <th></th>\n",
              "      <th>Symbol</th>\n",
              "      <th>Cluster</th>\n",
              "    </tr>\n",
              "  </thead>\n",
              "  <tbody>\n",
              "    <tr>\n",
              "      <th>0</th>\n",
              "      <td>ADANI</td>\n",
              "      <td>0</td>\n",
              "    </tr>\n",
              "    <tr>\n",
              "      <th>1</th>\n",
              "      <td>ADANIPOWER</td>\n",
              "      <td>1</td>\n",
              "    </tr>\n",
              "    <tr>\n",
              "      <th>2</th>\n",
              "      <td>Ajantha</td>\n",
              "      <td>0</td>\n",
              "    </tr>\n",
              "    <tr>\n",
              "      <th>3</th>\n",
              "      <td>Amaraj</td>\n",
              "      <td>0</td>\n",
              "    </tr>\n",
              "    <tr>\n",
              "      <th>4</th>\n",
              "      <td>Apollo</td>\n",
              "      <td>0</td>\n",
              "    </tr>\n",
              "    <tr>\n",
              "      <th>5</th>\n",
              "      <td>Ashoka</td>\n",
              "      <td>2</td>\n",
              "    </tr>\n",
              "    <tr>\n",
              "      <th>6</th>\n",
              "      <td>Asaian</td>\n",
              "      <td>0</td>\n",
              "    </tr>\n",
              "    <tr>\n",
              "      <th>7</th>\n",
              "      <td>Axis</td>\n",
              "      <td>0</td>\n",
              "    </tr>\n",
              "    <tr>\n",
              "      <th>8</th>\n",
              "      <td>Bajaje</td>\n",
              "      <td>0</td>\n",
              "    </tr>\n",
              "    <tr>\n",
              "      <th>9</th>\n",
              "      <td>Bajajf</td>\n",
              "      <td>0</td>\n",
              "    </tr>\n",
              "    <tr>\n",
              "      <th>10</th>\n",
              "      <td>Bergep</td>\n",
              "      <td>0</td>\n",
              "    </tr>\n",
              "    <tr>\n",
              "      <th>11</th>\n",
              "      <td>Bombaydy</td>\n",
              "      <td>1</td>\n",
              "    </tr>\n",
              "    <tr>\n",
              "      <th>12</th>\n",
              "      <td>Bpcl</td>\n",
              "      <td>2</td>\n",
              "    </tr>\n",
              "    <tr>\n",
              "      <th>13</th>\n",
              "      <td>Castro</td>\n",
              "      <td>2</td>\n",
              "    </tr>\n",
              "    <tr>\n",
              "      <th>14</th>\n",
              "      <td>Century</td>\n",
              "      <td>2</td>\n",
              "    </tr>\n",
              "    <tr>\n",
              "      <th>15</th>\n",
              "      <td>CIPLA</td>\n",
              "      <td>0</td>\n",
              "    </tr>\n",
              "    <tr>\n",
              "      <th>16</th>\n",
              "      <td>Cummin</td>\n",
              "      <td>0</td>\n",
              "    </tr>\n",
              "    <tr>\n",
              "      <th>17</th>\n",
              "      <td>DRRED</td>\n",
              "      <td>0</td>\n",
              "    </tr>\n",
              "    <tr>\n",
              "      <th>18</th>\n",
              "      <td>Eicher</td>\n",
              "      <td>0</td>\n",
              "    </tr>\n",
              "    <tr>\n",
              "      <th>19</th>\n",
              "      <td>Exide</td>\n",
              "      <td>0</td>\n",
              "    </tr>\n",
              "    <tr>\n",
              "      <th>20</th>\n",
              "      <td>Forits</td>\n",
              "      <td>2</td>\n",
              "    </tr>\n",
              "    <tr>\n",
              "      <th>21</th>\n",
              "      <td>Gail</td>\n",
              "      <td>0</td>\n",
              "    </tr>\n",
              "    <tr>\n",
              "      <th>22</th>\n",
              "      <td>Grim</td>\n",
              "      <td>2</td>\n",
              "    </tr>\n",
              "    <tr>\n",
              "      <th>23</th>\n",
              "      <td>Gujkal</td>\n",
              "      <td>0</td>\n",
              "    </tr>\n",
              "    <tr>\n",
              "      <th>24</th>\n",
              "      <td>Iroc</td>\n",
              "      <td>0</td>\n",
              "    </tr>\n",
              "    <tr>\n",
              "      <th>25</th>\n",
              "      <td>Itdc</td>\n",
              "      <td>2</td>\n",
              "    </tr>\n",
              "    <tr>\n",
              "      <th>26</th>\n",
              "      <td>IDFC</td>\n",
              "      <td>2</td>\n",
              "    </tr>\n",
              "  </tbody>\n",
              "</table>\n",
              "</div>"
            ],
            "text/plain": [
              "        Symbol  Cluster\n",
              "0        ADANI        0\n",
              "1   ADANIPOWER        1\n",
              "2      Ajantha        0\n",
              "3       Amaraj        0\n",
              "4       Apollo        0\n",
              "5       Ashoka        2\n",
              "6       Asaian        0\n",
              "7         Axis        0\n",
              "8       Bajaje        0\n",
              "9       Bajajf        0\n",
              "10      Bergep        0\n",
              "11    Bombaydy        1\n",
              "12        Bpcl        2\n",
              "13      Castro        2\n",
              "14     Century        2\n",
              "15       CIPLA        0\n",
              "16      Cummin        0\n",
              "17       DRRED        0\n",
              "18      Eicher        0\n",
              "19       Exide        0\n",
              "20      Forits        2\n",
              "21        Gail        0\n",
              "22        Grim        2\n",
              "23      Gujkal        0\n",
              "24        Iroc        0\n",
              "25        Itdc        2\n",
              "26        IDFC        2"
            ]
          },
          "metadata": {
            "tags": []
          },
          "execution_count": 87
        }
      ]
    }
  ]
}