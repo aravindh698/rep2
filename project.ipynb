import pandas as pd
hi=pd.read_csv('M&M'.csv)
pd.head()
