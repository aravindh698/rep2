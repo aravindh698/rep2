{
  "nbformat": 4,
  "nbformat_minor": 0,
  "metadata": {
    "colab": {
      "name": "intern1.ipynb",
      "provenance": [],
      "authorship_tag": "ABX9TyNswR2ecQQaHm+qWRJXGHFB",
      "include_colab_link": true
    },
    "kernelspec": {
      "name": "python3",
      "display_name": "Python 3"
    }
  },
  "cells": [
    {
      "cell_type": "markdown",
      "metadata": {
        "id": "view-in-github",
        "colab_type": "text"
      },
      "source": [
        "<a href=\"https://colab.research.google.com/github/aravindh698/rep2/blob/master/intern1.ipynb\" target=\"_parent\"><img src=\"https://colab.research.google.com/assets/colab-badge.svg\" alt=\"Open In Colab\"/></a>"
      ]
    },
    {
      "cell_type": "code",
      "metadata": {
        "id": "QLhOn2N8SC7_",
        "colab_type": "code",
        "colab": {}
      },
      "source": [
        "import pandas as pd\n",
        "import numpy as np\n"
      ],
      "execution_count": 0,
      "outputs": []
    },
    {
      "cell_type": "code",
      "metadata": {
        "id": "J8MC2MpjS-wq",
        "colab_type": "code",
        "colab": {
          "base_uri": "https://localhost:8080/",
          "height": 445
        },
        "outputId": "1e7c8882-7ebe-4b2b-ee09-e2ccbc2b2269"
      },
      "source": [
        "csv1=pd.read_csv('M&M.csv')\n",
        "csv1.head()"
      ],
      "execution_count": 3,
      "outputs": [
        {
          "output_type": "execute_result",
          "data": {
            "text/html": [
              "<div>\n",
              "<style scoped>\n",
              "    .dataframe tbody tr th:only-of-type {\n",
              "        vertical-align: middle;\n",
              "    }\n",
              "\n",
              "    .dataframe tbody tr th {\n",
              "        vertical-align: top;\n",
              "    }\n",
              "\n",
              "    .dataframe thead th {\n",
              "        text-align: right;\n",
              "    }\n",
              "</style>\n",
              "<table border=\"1\" class=\"dataframe\">\n",
              "  <thead>\n",
              "    <tr style=\"text-align: right;\">\n",
              "      <th></th>\n",
              "      <th>Symbol</th>\n",
              "      <th>Series</th>\n",
              "      <th>Date</th>\n",
              "      <th>Prev Close</th>\n",
              "      <th>Open Price</th>\n",
              "      <th>High Price</th>\n",
              "      <th>Low Price</th>\n",
              "      <th>Last Price</th>\n",
              "      <th>Close Price</th>\n",
              "      <th>Average Price</th>\n",
              "      <th>Total Traded Quantity</th>\n",
              "      <th>Turnover</th>\n",
              "      <th>No. of Trades</th>\n",
              "      <th>Deliverable Qty</th>\n",
              "      <th>% Dly Qt to Traded Qty</th>\n",
              "    </tr>\n",
              "  </thead>\n",
              "  <tbody>\n",
              "    <tr>\n",
              "      <th>0</th>\n",
              "      <td>M&amp;amp;M</td>\n",
              "      <td>EQ</td>\n",
              "      <td>15-May-2017</td>\n",
              "      <td>1367.85</td>\n",
              "      <td>1373.0</td>\n",
              "      <td>1386.65</td>\n",
              "      <td>1370.0</td>\n",
              "      <td>1374.80</td>\n",
              "      <td>1375.65</td>\n",
              "      <td>1378.31</td>\n",
              "      <td>558190</td>\n",
              "      <td>7.693579e+08</td>\n",
              "      <td>38442</td>\n",
              "      <td>386664</td>\n",
              "      <td>69.27</td>\n",
              "    </tr>\n",
              "    <tr>\n",
              "      <th>1</th>\n",
              "      <td>M&amp;amp;M</td>\n",
              "      <td>EQ</td>\n",
              "      <td>16-May-2017</td>\n",
              "      <td>1375.65</td>\n",
              "      <td>1377.0</td>\n",
              "      <td>1380.50</td>\n",
              "      <td>1363.1</td>\n",
              "      <td>1364.15</td>\n",
              "      <td>1366.35</td>\n",
              "      <td>1371.22</td>\n",
              "      <td>516012</td>\n",
              "      <td>7.075634e+08</td>\n",
              "      <td>29075</td>\n",
              "      <td>334469</td>\n",
              "      <td>64.82</td>\n",
              "    </tr>\n",
              "    <tr>\n",
              "      <th>2</th>\n",
              "      <td>M&amp;amp;M</td>\n",
              "      <td>EQ</td>\n",
              "      <td>17-May-2017</td>\n",
              "      <td>1366.35</td>\n",
              "      <td>1363.0</td>\n",
              "      <td>1384.35</td>\n",
              "      <td>1360.4</td>\n",
              "      <td>1379.00</td>\n",
              "      <td>1378.80</td>\n",
              "      <td>1378.56</td>\n",
              "      <td>920884</td>\n",
              "      <td>1.269497e+09</td>\n",
              "      <td>32299</td>\n",
              "      <td>689649</td>\n",
              "      <td>74.89</td>\n",
              "    </tr>\n",
              "    <tr>\n",
              "      <th>3</th>\n",
              "      <td>M&amp;amp;M</td>\n",
              "      <td>EQ</td>\n",
              "      <td>18-May-2017</td>\n",
              "      <td>1378.80</td>\n",
              "      <td>1369.0</td>\n",
              "      <td>1372.00</td>\n",
              "      <td>1347.5</td>\n",
              "      <td>1347.50</td>\n",
              "      <td>1352.85</td>\n",
              "      <td>1361.70</td>\n",
              "      <td>1217846</td>\n",
              "      <td>1.658344e+09</td>\n",
              "      <td>20476</td>\n",
              "      <td>1043736</td>\n",
              "      <td>85.70</td>\n",
              "    </tr>\n",
              "    <tr>\n",
              "      <th>4</th>\n",
              "      <td>M&amp;amp;M</td>\n",
              "      <td>EQ</td>\n",
              "      <td>19-May-2017</td>\n",
              "      <td>1352.85</td>\n",
              "      <td>1350.0</td>\n",
              "      <td>1357.60</td>\n",
              "      <td>1328.5</td>\n",
              "      <td>1338.20</td>\n",
              "      <td>1333.40</td>\n",
              "      <td>1344.80</td>\n",
              "      <td>976742</td>\n",
              "      <td>1.313522e+09</td>\n",
              "      <td>36297</td>\n",
              "      <td>773590</td>\n",
              "      <td>79.20</td>\n",
              "    </tr>\n",
              "  </tbody>\n",
              "</table>\n",
              "</div>"
            ],
            "text/plain": [
              "    Symbol Series  ... Deliverable Qty  % Dly Qt to Traded Qty\n",
              "0  M&amp;M     EQ  ...          386664                   69.27\n",
              "1  M&amp;M     EQ  ...          334469                   64.82\n",
              "2  M&amp;M     EQ  ...          689649                   74.89\n",
              "3  M&amp;M     EQ  ...         1043736                   85.70\n",
              "4  M&amp;M     EQ  ...          773590                   79.20\n",
              "\n",
              "[5 rows x 15 columns]"
            ]
          },
          "metadata": {
            "tags": []
          },
          "execution_count": 3
        }
      ]
    },
    {
      "cell_type": "code",
      "metadata": {
        "id": "kayXHcChTZkT",
        "colab_type": "code",
        "colab": {
          "base_uri": "https://localhost:8080/",
          "height": 391
        },
        "outputId": "b28a5e1a-ea73-4a2f-c500-9355dbdf3382"
      },
      "source": [
        "csv1.info()"
      ],
      "execution_count": 4,
      "outputs": [
        {
          "output_type": "stream",
          "text": [
            "<class 'pandas.core.frame.DataFrame'>\n",
            "RangeIndex: 497 entries, 0 to 496\n",
            "Data columns (total 15 columns):\n",
            " #   Column                  Non-Null Count  Dtype  \n",
            "---  ------                  --------------  -----  \n",
            " 0   Symbol                  497 non-null    object \n",
            " 1   Series                  497 non-null    object \n",
            " 2   Date                    497 non-null    object \n",
            " 3   Prev Close              497 non-null    float64\n",
            " 4   Open Price              497 non-null    float64\n",
            " 5   High Price              497 non-null    float64\n",
            " 6   Low Price               497 non-null    float64\n",
            " 7   Last Price              497 non-null    float64\n",
            " 8   Close Price             497 non-null    float64\n",
            " 9   Average Price           497 non-null    float64\n",
            " 10  Total Traded Quantity   497 non-null    int64  \n",
            " 11  Turnover                497 non-null    float64\n",
            " 12  No. of Trades           497 non-null    int64  \n",
            " 13  Deliverable Qty         497 non-null    int64  \n",
            " 14  % Dly Qt to Traded Qty  497 non-null    float64\n",
            "dtypes: float64(9), int64(3), object(3)\n",
            "memory usage: 58.4+ KB\n"
          ],
          "name": "stdout"
        }
      ]
    },
    {
      "cell_type": "code",
      "metadata": {
        "id": "WTIvt6PkTnis",
        "colab_type": "code",
        "colab": {
          "base_uri": "https://localhost:8080/",
          "height": 445
        },
        "outputId": "14949881-ee87-4423-eeec-0a2fc2870895"
      },
      "source": [
        "csv1.tail()"
      ],
      "execution_count": 5,
      "outputs": [
        {
          "output_type": "execute_result",
          "data": {
            "text/html": [
              "<div>\n",
              "<style scoped>\n",
              "    .dataframe tbody tr th:only-of-type {\n",
              "        vertical-align: middle;\n",
              "    }\n",
              "\n",
              "    .dataframe tbody tr th {\n",
              "        vertical-align: top;\n",
              "    }\n",
              "\n",
              "    .dataframe thead th {\n",
              "        text-align: right;\n",
              "    }\n",
              "</style>\n",
              "<table border=\"1\" class=\"dataframe\">\n",
              "  <thead>\n",
              "    <tr style=\"text-align: right;\">\n",
              "      <th></th>\n",
              "      <th>Symbol</th>\n",
              "      <th>Series</th>\n",
              "      <th>Date</th>\n",
              "      <th>Prev Close</th>\n",
              "      <th>Open Price</th>\n",
              "      <th>High Price</th>\n",
              "      <th>Low Price</th>\n",
              "      <th>Last Price</th>\n",
              "      <th>Close Price</th>\n",
              "      <th>Average Price</th>\n",
              "      <th>Total Traded Quantity</th>\n",
              "      <th>Turnover</th>\n",
              "      <th>No. of Trades</th>\n",
              "      <th>Deliverable Qty</th>\n",
              "      <th>% Dly Qt to Traded Qty</th>\n",
              "    </tr>\n",
              "  </thead>\n",
              "  <tbody>\n",
              "    <tr>\n",
              "      <th>492</th>\n",
              "      <td>M&amp;amp;M</td>\n",
              "      <td>EQ</td>\n",
              "      <td>07-May-2019</td>\n",
              "      <td>638.50</td>\n",
              "      <td>641.75</td>\n",
              "      <td>642.90</td>\n",
              "      <td>634.2</td>\n",
              "      <td>635.55</td>\n",
              "      <td>636.00</td>\n",
              "      <td>637.64</td>\n",
              "      <td>3160875</td>\n",
              "      <td>2.015496e+09</td>\n",
              "      <td>72445</td>\n",
              "      <td>2366596</td>\n",
              "      <td>74.87</td>\n",
              "    </tr>\n",
              "    <tr>\n",
              "      <th>493</th>\n",
              "      <td>M&amp;amp;M</td>\n",
              "      <td>EQ</td>\n",
              "      <td>08-May-2019</td>\n",
              "      <td>636.00</td>\n",
              "      <td>635.55</td>\n",
              "      <td>637.00</td>\n",
              "      <td>619.0</td>\n",
              "      <td>624.60</td>\n",
              "      <td>621.65</td>\n",
              "      <td>631.73</td>\n",
              "      <td>3853705</td>\n",
              "      <td>2.434492e+09</td>\n",
              "      <td>51461</td>\n",
              "      <td>3092701</td>\n",
              "      <td>80.25</td>\n",
              "    </tr>\n",
              "    <tr>\n",
              "      <th>494</th>\n",
              "      <td>M&amp;amp;M</td>\n",
              "      <td>EQ</td>\n",
              "      <td>09-May-2019</td>\n",
              "      <td>621.65</td>\n",
              "      <td>620.90</td>\n",
              "      <td>627.95</td>\n",
              "      <td>616.1</td>\n",
              "      <td>625.80</td>\n",
              "      <td>625.45</td>\n",
              "      <td>621.74</td>\n",
              "      <td>1366143</td>\n",
              "      <td>8.493796e+08</td>\n",
              "      <td>52412</td>\n",
              "      <td>538598</td>\n",
              "      <td>39.42</td>\n",
              "    </tr>\n",
              "    <tr>\n",
              "      <th>495</th>\n",
              "      <td>M&amp;amp;M</td>\n",
              "      <td>EQ</td>\n",
              "      <td>10-May-2019</td>\n",
              "      <td>625.45</td>\n",
              "      <td>626.25</td>\n",
              "      <td>631.85</td>\n",
              "      <td>619.0</td>\n",
              "      <td>625.85</td>\n",
              "      <td>628.75</td>\n",
              "      <td>624.59</td>\n",
              "      <td>2093110</td>\n",
              "      <td>1.307326e+09</td>\n",
              "      <td>55778</td>\n",
              "      <td>1074491</td>\n",
              "      <td>51.33</td>\n",
              "    </tr>\n",
              "    <tr>\n",
              "      <th>496</th>\n",
              "      <td>M&amp;amp;M</td>\n",
              "      <td>EQ</td>\n",
              "      <td>13-May-2019</td>\n",
              "      <td>628.75</td>\n",
              "      <td>628.70</td>\n",
              "      <td>628.70</td>\n",
              "      <td>615.0</td>\n",
              "      <td>616.90</td>\n",
              "      <td>617.60</td>\n",
              "      <td>621.36</td>\n",
              "      <td>1463136</td>\n",
              "      <td>9.091296e+08</td>\n",
              "      <td>43320</td>\n",
              "      <td>896064</td>\n",
              "      <td>61.24</td>\n",
              "    </tr>\n",
              "  </tbody>\n",
              "</table>\n",
              "</div>"
            ],
            "text/plain": [
              "      Symbol Series  ... Deliverable Qty  % Dly Qt to Traded Qty\n",
              "492  M&amp;M     EQ  ...         2366596                   74.87\n",
              "493  M&amp;M     EQ  ...         3092701                   80.25\n",
              "494  M&amp;M     EQ  ...          538598                   39.42\n",
              "495  M&amp;M     EQ  ...         1074491                   51.33\n",
              "496  M&amp;M     EQ  ...          896064                   61.24\n",
              "\n",
              "[5 rows x 15 columns]"
            ]
          },
          "metadata": {
            "tags": []
          },
          "execution_count": 5
        }
      ]
    },
    {
      "cell_type": "code",
      "metadata": {
        "id": "r5FekFVaVCzq",
        "colab_type": "code",
        "colab": {
          "base_uri": "https://localhost:8080/",
          "height": 315
        },
        "outputId": "38263664-23eb-4ece-afcf-a82e8c56a8c2"
      },
      "source": [
        "csv1[csv1.Series != 'EQ']"
      ],
      "execution_count": 18,
      "outputs": [
        {
          "output_type": "execute_result",
          "data": {
            "text/html": [
              "<div>\n",
              "<style scoped>\n",
              "    .dataframe tbody tr th:only-of-type {\n",
              "        vertical-align: middle;\n",
              "    }\n",
              "\n",
              "    .dataframe tbody tr th {\n",
              "        vertical-align: top;\n",
              "    }\n",
              "\n",
              "    .dataframe thead th {\n",
              "        text-align: right;\n",
              "    }\n",
              "</style>\n",
              "<table border=\"1\" class=\"dataframe\">\n",
              "  <thead>\n",
              "    <tr style=\"text-align: right;\">\n",
              "      <th></th>\n",
              "      <th>Symbol</th>\n",
              "      <th>Series</th>\n",
              "      <th>Date</th>\n",
              "      <th>Prev Close</th>\n",
              "      <th>Open Price</th>\n",
              "      <th>High Price</th>\n",
              "      <th>Low Price</th>\n",
              "      <th>Last Price</th>\n",
              "      <th>Close Price</th>\n",
              "      <th>Average Price</th>\n",
              "      <th>Total Traded Quantity</th>\n",
              "      <th>Turnover</th>\n",
              "      <th>No. of Trades</th>\n",
              "      <th>Deliverable Qty</th>\n",
              "      <th>% Dly Qt to Traded Qty</th>\n",
              "    </tr>\n",
              "  </thead>\n",
              "  <tbody>\n",
              "    <tr>\n",
              "      <th>439</th>\n",
              "      <td>M&amp;amp;M</td>\n",
              "      <td>BL</td>\n",
              "      <td>18-Feb-2019</td>\n",
              "      <td>792.00</td>\n",
              "      <td>627.55</td>\n",
              "      <td>627.55</td>\n",
              "      <td>627.55</td>\n",
              "      <td>627.55</td>\n",
              "      <td>627.55</td>\n",
              "      <td>627.55</td>\n",
              "      <td>5358108</td>\n",
              "      <td>3.362481e+09</td>\n",
              "      <td>1</td>\n",
              "      <td>0</td>\n",
              "      <td>0.0</td>\n",
              "    </tr>\n",
              "    <tr>\n",
              "      <th>445</th>\n",
              "      <td>M&amp;amp;M</td>\n",
              "      <td>BL</td>\n",
              "      <td>25-Feb-2019</td>\n",
              "      <td>627.55</td>\n",
              "      <td>646.60</td>\n",
              "      <td>646.60</td>\n",
              "      <td>646.60</td>\n",
              "      <td>646.60</td>\n",
              "      <td>646.60</td>\n",
              "      <td>646.60</td>\n",
              "      <td>377124</td>\n",
              "      <td>2.438484e+08</td>\n",
              "      <td>1</td>\n",
              "      <td>0</td>\n",
              "      <td>0.0</td>\n",
              "    </tr>\n",
              "    <tr>\n",
              "      <th>464</th>\n",
              "      <td>M&amp;amp;M</td>\n",
              "      <td>BL</td>\n",
              "      <td>25-Mar-2019</td>\n",
              "      <td>646.60</td>\n",
              "      <td>678.80</td>\n",
              "      <td>678.80</td>\n",
              "      <td>678.80</td>\n",
              "      <td>678.80</td>\n",
              "      <td>678.80</td>\n",
              "      <td>678.80</td>\n",
              "      <td>222927</td>\n",
              "      <td>1.513228e+08</td>\n",
              "      <td>1</td>\n",
              "      <td>222927</td>\n",
              "      <td>100.0</td>\n",
              "    </tr>\n",
              "  </tbody>\n",
              "</table>\n",
              "</div>"
            ],
            "text/plain": [
              "      Symbol Series  ... Deliverable Qty  % Dly Qt to Traded Qty\n",
              "439  M&amp;M     BL  ...               0                     0.0\n",
              "445  M&amp;M     BL  ...               0                     0.0\n",
              "464  M&amp;M     BL  ...          222927                   100.0\n",
              "\n",
              "[3 rows x 15 columns]"
            ]
          },
          "metadata": {
            "tags": []
          },
          "execution_count": 18
        }
      ]
    },
    {
      "cell_type": "code",
      "metadata": {
        "id": "_am-nSHEYpmb",
        "colab_type": "code",
        "colab": {}
      },
      "source": [
        "csv1=csv1.drop(index=[439,445,464])"
      ],
      "execution_count": 0,
      "outputs": []
    },
    {
      "cell_type": "code",
      "metadata": {
        "id": "S9hVu33rXBdG",
        "colab_type": "code",
        "colab": {
          "base_uri": "https://localhost:8080/",
          "height": 445
        },
        "outputId": "f2ceb7da-9b12-420c-df90-320ca3952904"
      },
      "source": [
        "csv1.tail()"
      ],
      "execution_count": 24,
      "outputs": [
        {
          "output_type": "execute_result",
          "data": {
            "text/html": [
              "<div>\n",
              "<style scoped>\n",
              "    .dataframe tbody tr th:only-of-type {\n",
              "        vertical-align: middle;\n",
              "    }\n",
              "\n",
              "    .dataframe tbody tr th {\n",
              "        vertical-align: top;\n",
              "    }\n",
              "\n",
              "    .dataframe thead th {\n",
              "        text-align: right;\n",
              "    }\n",
              "</style>\n",
              "<table border=\"1\" class=\"dataframe\">\n",
              "  <thead>\n",
              "    <tr style=\"text-align: right;\">\n",
              "      <th></th>\n",
              "      <th>Symbol</th>\n",
              "      <th>Series</th>\n",
              "      <th>Date</th>\n",
              "      <th>Prev Close</th>\n",
              "      <th>Open Price</th>\n",
              "      <th>High Price</th>\n",
              "      <th>Low Price</th>\n",
              "      <th>Last Price</th>\n",
              "      <th>Close Price</th>\n",
              "      <th>Average Price</th>\n",
              "      <th>Total Traded Quantity</th>\n",
              "      <th>Turnover</th>\n",
              "      <th>No. of Trades</th>\n",
              "      <th>Deliverable Qty</th>\n",
              "      <th>% Dly Qt to Traded Qty</th>\n",
              "    </tr>\n",
              "  </thead>\n",
              "  <tbody>\n",
              "    <tr>\n",
              "      <th>492</th>\n",
              "      <td>M&amp;amp;M</td>\n",
              "      <td>EQ</td>\n",
              "      <td>07-May-2019</td>\n",
              "      <td>638.50</td>\n",
              "      <td>641.75</td>\n",
              "      <td>642.90</td>\n",
              "      <td>634.2</td>\n",
              "      <td>635.55</td>\n",
              "      <td>636.00</td>\n",
              "      <td>637.64</td>\n",
              "      <td>3160875</td>\n",
              "      <td>2.015496e+09</td>\n",
              "      <td>72445</td>\n",
              "      <td>2366596</td>\n",
              "      <td>74.87</td>\n",
              "    </tr>\n",
              "    <tr>\n",
              "      <th>493</th>\n",
              "      <td>M&amp;amp;M</td>\n",
              "      <td>EQ</td>\n",
              "      <td>08-May-2019</td>\n",
              "      <td>636.00</td>\n",
              "      <td>635.55</td>\n",
              "      <td>637.00</td>\n",
              "      <td>619.0</td>\n",
              "      <td>624.60</td>\n",
              "      <td>621.65</td>\n",
              "      <td>631.73</td>\n",
              "      <td>3853705</td>\n",
              "      <td>2.434492e+09</td>\n",
              "      <td>51461</td>\n",
              "      <td>3092701</td>\n",
              "      <td>80.25</td>\n",
              "    </tr>\n",
              "    <tr>\n",
              "      <th>494</th>\n",
              "      <td>M&amp;amp;M</td>\n",
              "      <td>EQ</td>\n",
              "      <td>09-May-2019</td>\n",
              "      <td>621.65</td>\n",
              "      <td>620.90</td>\n",
              "      <td>627.95</td>\n",
              "      <td>616.1</td>\n",
              "      <td>625.80</td>\n",
              "      <td>625.45</td>\n",
              "      <td>621.74</td>\n",
              "      <td>1366143</td>\n",
              "      <td>8.493796e+08</td>\n",
              "      <td>52412</td>\n",
              "      <td>538598</td>\n",
              "      <td>39.42</td>\n",
              "    </tr>\n",
              "    <tr>\n",
              "      <th>495</th>\n",
              "      <td>M&amp;amp;M</td>\n",
              "      <td>EQ</td>\n",
              "      <td>10-May-2019</td>\n",
              "      <td>625.45</td>\n",
              "      <td>626.25</td>\n",
              "      <td>631.85</td>\n",
              "      <td>619.0</td>\n",
              "      <td>625.85</td>\n",
              "      <td>628.75</td>\n",
              "      <td>624.59</td>\n",
              "      <td>2093110</td>\n",
              "      <td>1.307326e+09</td>\n",
              "      <td>55778</td>\n",
              "      <td>1074491</td>\n",
              "      <td>51.33</td>\n",
              "    </tr>\n",
              "    <tr>\n",
              "      <th>496</th>\n",
              "      <td>M&amp;amp;M</td>\n",
              "      <td>EQ</td>\n",
              "      <td>13-May-2019</td>\n",
              "      <td>628.75</td>\n",
              "      <td>628.70</td>\n",
              "      <td>628.70</td>\n",
              "      <td>615.0</td>\n",
              "      <td>616.90</td>\n",
              "      <td>617.60</td>\n",
              "      <td>621.36</td>\n",
              "      <td>1463136</td>\n",
              "      <td>9.091296e+08</td>\n",
              "      <td>43320</td>\n",
              "      <td>896064</td>\n",
              "      <td>61.24</td>\n",
              "    </tr>\n",
              "  </tbody>\n",
              "</table>\n",
              "</div>"
            ],
            "text/plain": [
              "      Symbol Series  ... Deliverable Qty  % Dly Qt to Traded Qty\n",
              "492  M&amp;M     EQ  ...         2366596                   74.87\n",
              "493  M&amp;M     EQ  ...         3092701                   80.25\n",
              "494  M&amp;M     EQ  ...          538598                   39.42\n",
              "495  M&amp;M     EQ  ...         1074491                   51.33\n",
              "496  M&amp;M     EQ  ...          896064                   61.24\n",
              "\n",
              "[5 rows x 15 columns]"
            ]
          },
          "metadata": {
            "tags": []
          },
          "execution_count": 24
        }
      ]
    },
    {
      "cell_type": "code",
      "metadata": {
        "id": "OAtqPlgnZ0Tn",
        "colab_type": "code",
        "colab": {
          "base_uri": "https://localhost:8080/",
          "height": 34
        },
        "outputId": "e9b5153d-1cb0-4ce4-d019-932a3ff24a2e"
      },
      "source": [
        "i=csv1['High Price'].max()\n",
        "print(\"The maximum price is\",i)"
      ],
      "execution_count": 27,
      "outputs": [
        {
          "output_type": "stream",
          "text": [
            "The maximum price is 1571.4\n"
          ],
          "name": "stdout"
        }
      ]
    },
    {
      "cell_type": "code",
      "metadata": {
        "id": "-TatI5nlaXH8",
        "colab_type": "code",
        "colab": {
          "base_uri": "https://localhost:8080/",
          "height": 34
        },
        "outputId": "60d47b68-7eaa-4fdc-f92e-d174c84d146f"
      },
      "source": [
        "i=csv1['Low Price'].min()\n",
        "print(\"The minimum price is\",i)"
      ],
      "execution_count": 28,
      "outputs": [
        {
          "output_type": "stream",
          "text": [
            "The minimum price is 615.0\n"
          ],
          "name": "stdout"
        }
      ]
    },
    {
      "cell_type": "code",
      "metadata": {
        "id": "bS2PEPBybnfL",
        "colab_type": "code",
        "colab": {
          "base_uri": "https://localhost:8080/",
          "height": 34
        },
        "outputId": "0d611a24-f5cd-4f6b-992b-6c088853a20d"
      },
      "source": [
        "i=csv1['Average Price'].mean()\n",
        "print(\"The average prie is\",i)"
      ],
      "execution_count": 35,
      "outputs": [
        {
          "output_type": "stream",
          "text": [
            "The average prie is 967.2987246963565\n"
          ],
          "name": "stdout"
        }
      ]
    },
    {
      "cell_type": "code",
      "metadata": {
        "id": "MLENlD3ueDRh",
        "colab_type": "code",
        "colab": {
          "base_uri": "https://localhost:8080/",
          "height": 391
        },
        "outputId": "e6b041eb-d553-4960-b6f3-a5a773f5b823"
      },
      "source": [
        "csv1['Date']=pd.to_datetime(csv1['Date'],infer_datetime_format=True)\n",
        "csv1.info()\n"
      ],
      "execution_count": 40,
      "outputs": [
        {
          "output_type": "stream",
          "text": [
            "<class 'pandas.core.frame.DataFrame'>\n",
            "Int64Index: 494 entries, 0 to 496\n",
            "Data columns (total 15 columns):\n",
            " #   Column                  Non-Null Count  Dtype         \n",
            "---  ------                  --------------  -----         \n",
            " 0   Symbol                  494 non-null    object        \n",
            " 1   Series                  494 non-null    object        \n",
            " 2   Date                    494 non-null    datetime64[ns]\n",
            " 3   Prev Close              494 non-null    float64       \n",
            " 4   Open Price              494 non-null    float64       \n",
            " 5   High Price              494 non-null    float64       \n",
            " 6   Low Price               494 non-null    float64       \n",
            " 7   Last Price              494 non-null    float64       \n",
            " 8   Close Price             494 non-null    float64       \n",
            " 9   Average Price           494 non-null    float64       \n",
            " 10  Total Traded Quantity   494 non-null    int64         \n",
            " 11  Turnover                494 non-null    float64       \n",
            " 12  No. of Trades           494 non-null    int64         \n",
            " 13  Deliverable Qty         494 non-null    int64         \n",
            " 14  % Dly Qt to Traded Qty  494 non-null    float64       \n",
            "dtypes: datetime64[ns](1), float64(9), int64(3), object(2)\n",
            "memory usage: 61.8+ KB\n"
          ],
          "name": "stdout"
        }
      ]
    },
    {
      "cell_type": "code",
      "metadata": {
        "id": "YQqy2LvlexUf",
        "colab_type": "code",
        "colab": {
          "base_uri": "https://localhost:8080/",
          "height": 34
        },
        "outputId": "7c8be691-b1e5-4ae7-93e2-07c5fbbbf4fc"
      },
      "source": [
        "print(csv1['Date'].max()-csv1['Date'].min())"
      ],
      "execution_count": 43,
      "outputs": [
        {
          "output_type": "stream",
          "text": [
            "728 days 00:00:00\n"
          ],
          "name": "stdout"
        }
      ]
    }
  ]
}